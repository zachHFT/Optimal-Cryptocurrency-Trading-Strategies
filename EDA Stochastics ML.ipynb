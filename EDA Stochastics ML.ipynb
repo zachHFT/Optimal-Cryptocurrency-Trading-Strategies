{
 "cells": [
  {
   "cell_type": "markdown",
   "metadata": {},
   "source": [
    "## General Exploratory Data Analysis"
   ]
  },
  {
   "cell_type": "code",
   "execution_count": 1,
   "metadata": {},
   "outputs": [],
   "source": [
    "import pandas as pd\n",
    "import numpy as np\n",
    "import matplotlib.pyplot as plt\n",
    "import math\n",
    "import os.path\n",
    "from datetime import datetime\n",
    "from datetime import date\n",
    "from dateutil import parser\n",
    "#import pickle\n",
    "#import asyncio\n",
    "from datetime import timedelta\n",
    "import dateutil.parser\n",
    "import imp\n",
    "import json\n",
    "import statistics\n",
    "#import random\n",
    "\n",
    "#from binance.client import Client\n",
    "\n",
    "#import api\n",
    "#import get_uptodate_binance_data\n",
    "#import generate_random_file\n",
    "#import track_pnl"
   ]
  },
  {
   "cell_type": "code",
   "execution_count": 2,
   "metadata": {},
   "outputs": [],
   "source": [
    "# Load the data\n",
    "\n",
    "\n",
    "\n",
    "filename = 'BTCUSDT-1d-binance.csv'\n",
    "timeframe = '1h'\n",
    "OHLC_directory = 'C://Users//liuye//ForPython//Data//'\n",
    "complete_file_path = OHLC_directory + filename\n",
    "dff = pd.read_csv(complete_file_path)"
   ]
  },
  {
   "cell_type": "markdown",
   "metadata": {},
   "source": [
    "Deleting some useless columns"
   ]
  },
  {
   "cell_type": "code",
   "execution_count": 3,
   "metadata": {},
   "outputs": [],
   "source": [
    "dff = dff.drop(['Unnamed: 0','time_diff_in_days','time_diff_in_min'], axis=1)\n",
    "df = dff"
   ]
  },
  {
   "cell_type": "markdown",
   "metadata": {},
   "source": [
    "Adding log-return"
   ]
  },
  {
   "cell_type": "code",
   "execution_count": 4,
   "metadata": {},
   "outputs": [],
   "source": [
    "df['open'] = np.log(dff['open'])\n",
    "df['high'] = np.log(dff['high'])\n",
    "df['low'] = np.log(dff['low'])\n",
    "df['close'] = np.log(dff['close'])"
   ]
  },
  {
   "cell_type": "code",
   "execution_count": 5,
   "metadata": {},
   "outputs": [
    {
     "data": {
      "text/html": [
       "<div>\n",
       "<style scoped>\n",
       "    .dataframe tbody tr th:only-of-type {\n",
       "        vertical-align: middle;\n",
       "    }\n",
       "\n",
       "    .dataframe tbody tr th {\n",
       "        vertical-align: top;\n",
       "    }\n",
       "\n",
       "    .dataframe thead th {\n",
       "        text-align: right;\n",
       "    }\n",
       "</style>\n",
       "<table border=\"1\" class=\"dataframe\">\n",
       "  <thead>\n",
       "    <tr style=\"text-align: right;\">\n",
       "      <th></th>\n",
       "      <th>timestamp</th>\n",
       "      <th>open</th>\n",
       "      <th>high</th>\n",
       "      <th>low</th>\n",
       "      <th>close</th>\n",
       "      <th>volume</th>\n",
       "    </tr>\n",
       "  </thead>\n",
       "  <tbody>\n",
       "    <tr>\n",
       "      <th>0</th>\n",
       "      <td>2017-08-17</td>\n",
       "      <td>8.357372</td>\n",
       "      <td>8.408581</td>\n",
       "      <td>8.343016</td>\n",
       "      <td>8.362895</td>\n",
       "      <td>795.150377</td>\n",
       "    </tr>\n",
       "    <tr>\n",
       "      <th>1</th>\n",
       "      <td>2017-08-18</td>\n",
       "      <td>8.362895</td>\n",
       "      <td>8.382866</td>\n",
       "      <td>8.278624</td>\n",
       "      <td>8.320782</td>\n",
       "      <td>1199.888264</td>\n",
       "    </tr>\n",
       "    <tr>\n",
       "      <th>2</th>\n",
       "      <td>2017-08-19</td>\n",
       "      <td>8.320782</td>\n",
       "      <td>8.339188</td>\n",
       "      <td>8.255828</td>\n",
       "      <td>8.328446</td>\n",
       "      <td>381.309763</td>\n",
       "    </tr>\n",
       "    <tr>\n",
       "      <th>3</th>\n",
       "      <td>2017-08-20</td>\n",
       "      <td>8.323846</td>\n",
       "      <td>8.345474</td>\n",
       "      <td>8.302172</td>\n",
       "      <td>8.315393</td>\n",
       "      <td>467.083022</td>\n",
       "    </tr>\n",
       "    <tr>\n",
       "      <th>4</th>\n",
       "      <td>2017-08-21</td>\n",
       "      <td>8.311184</td>\n",
       "      <td>8.323516</td>\n",
       "      <td>8.271750</td>\n",
       "      <td>8.298042</td>\n",
       "      <td>691.743060</td>\n",
       "    </tr>\n",
       "    <tr>\n",
       "      <th>...</th>\n",
       "      <td>...</td>\n",
       "      <td>...</td>\n",
       "      <td>...</td>\n",
       "      <td>...</td>\n",
       "      <td>...</td>\n",
       "      <td>...</td>\n",
       "    </tr>\n",
       "    <tr>\n",
       "      <th>1441</th>\n",
       "      <td>2021-07-28</td>\n",
       "      <td>10.582957</td>\n",
       "      <td>10.618885</td>\n",
       "      <td>10.565454</td>\n",
       "      <td>10.597124</td>\n",
       "      <td>101344.528441</td>\n",
       "    </tr>\n",
       "    <tr>\n",
       "      <th>1442</th>\n",
       "      <td>2021-07-29</td>\n",
       "      <td>10.597124</td>\n",
       "      <td>10.612508</td>\n",
       "      <td>10.576432</td>\n",
       "      <td>10.597047</td>\n",
       "      <td>53998.439283</td>\n",
       "    </tr>\n",
       "    <tr>\n",
       "      <th>1443</th>\n",
       "      <td>2021-07-30</td>\n",
       "      <td>10.597097</td>\n",
       "      <td>10.652937</td>\n",
       "      <td>10.553551</td>\n",
       "      <td>10.650326</td>\n",
       "      <td>73602.784805</td>\n",
       "    </tr>\n",
       "    <tr>\n",
       "      <th>1444</th>\n",
       "      <td>2021-07-31</td>\n",
       "      <td>10.650326</td>\n",
       "      <td>10.656035</td>\n",
       "      <td>10.621331</td>\n",
       "      <td>10.632529</td>\n",
       "      <td>44849.791012</td>\n",
       "    </tr>\n",
       "    <tr>\n",
       "      <th>1445</th>\n",
       "      <td>2021-08-01</td>\n",
       "      <td>10.632529</td>\n",
       "      <td>10.659586</td>\n",
       "      <td>10.614334</td>\n",
       "      <td>10.624990</td>\n",
       "      <td>37557.833000</td>\n",
       "    </tr>\n",
       "  </tbody>\n",
       "</table>\n",
       "<p>1446 rows × 6 columns</p>\n",
       "</div>"
      ],
      "text/plain": [
       "       timestamp       open       high        low      close         volume\n",
       "0     2017-08-17   8.357372   8.408581   8.343016   8.362895     795.150377\n",
       "1     2017-08-18   8.362895   8.382866   8.278624   8.320782    1199.888264\n",
       "2     2017-08-19   8.320782   8.339188   8.255828   8.328446     381.309763\n",
       "3     2017-08-20   8.323846   8.345474   8.302172   8.315393     467.083022\n",
       "4     2017-08-21   8.311184   8.323516   8.271750   8.298042     691.743060\n",
       "...          ...        ...        ...        ...        ...            ...\n",
       "1441  2021-07-28  10.582957  10.618885  10.565454  10.597124  101344.528441\n",
       "1442  2021-07-29  10.597124  10.612508  10.576432  10.597047   53998.439283\n",
       "1443  2021-07-30  10.597097  10.652937  10.553551  10.650326   73602.784805\n",
       "1444  2021-07-31  10.650326  10.656035  10.621331  10.632529   44849.791012\n",
       "1445  2021-08-01  10.632529  10.659586  10.614334  10.624990   37557.833000\n",
       "\n",
       "[1446 rows x 6 columns]"
      ]
     },
     "execution_count": 5,
     "metadata": {},
     "output_type": "execute_result"
    }
   ],
   "source": [
    "df"
   ]
  },
  {
   "cell_type": "markdown",
   "metadata": {},
   "source": [
    "# Analysing log-return by day"
   ]
  },
  {
   "cell_type": "code",
   "execution_count": 6,
   "metadata": {},
   "outputs": [
    {
     "name": "stderr",
     "output_type": "stream",
     "text": [
      "C:\\Users\\liuye\\anaconda3\\envs\\work\\lib\\site-packages\\ipykernel_launcher.py:3: FutureWarning: Series.dt.weekofyear and Series.dt.week have been deprecated.  Please use Series.dt.isocalendar().week instead.\n",
      "  This is separate from the ipykernel package so we can avoid doing imports until\n"
     ]
    }
   ],
   "source": [
    "df['datetime'] = pd.to_datetime(df['timestamp'], errors='coerce')\n",
    "df['day'] = df['datetime'].dt.day_name()\n",
    "df['week'] = df['datetime'].dt.week\n",
    "df['month'] = df['datetime'].dt.month_name()"
   ]
  },
  {
   "cell_type": "code",
   "execution_count": 7,
   "metadata": {},
   "outputs": [
    {
     "data": {
      "text/html": [
       "<div>\n",
       "<style scoped>\n",
       "    .dataframe tbody tr th:only-of-type {\n",
       "        vertical-align: middle;\n",
       "    }\n",
       "\n",
       "    .dataframe tbody tr th {\n",
       "        vertical-align: top;\n",
       "    }\n",
       "\n",
       "    .dataframe thead th {\n",
       "        text-align: right;\n",
       "    }\n",
       "</style>\n",
       "<table border=\"1\" class=\"dataframe\">\n",
       "  <thead>\n",
       "    <tr style=\"text-align: right;\">\n",
       "      <th></th>\n",
       "      <th>timestamp</th>\n",
       "      <th>open</th>\n",
       "      <th>high</th>\n",
       "      <th>low</th>\n",
       "      <th>close</th>\n",
       "      <th>volume</th>\n",
       "      <th>datetime</th>\n",
       "      <th>day</th>\n",
       "      <th>week</th>\n",
       "      <th>month</th>\n",
       "    </tr>\n",
       "  </thead>\n",
       "  <tbody>\n",
       "    <tr>\n",
       "      <th>0</th>\n",
       "      <td>2017-08-17</td>\n",
       "      <td>8.357372</td>\n",
       "      <td>8.408581</td>\n",
       "      <td>8.343016</td>\n",
       "      <td>8.362895</td>\n",
       "      <td>795.150377</td>\n",
       "      <td>2017-08-17</td>\n",
       "      <td>Thursday</td>\n",
       "      <td>33</td>\n",
       "      <td>August</td>\n",
       "    </tr>\n",
       "    <tr>\n",
       "      <th>1</th>\n",
       "      <td>2017-08-18</td>\n",
       "      <td>8.362895</td>\n",
       "      <td>8.382866</td>\n",
       "      <td>8.278624</td>\n",
       "      <td>8.320782</td>\n",
       "      <td>1199.888264</td>\n",
       "      <td>2017-08-18</td>\n",
       "      <td>Friday</td>\n",
       "      <td>33</td>\n",
       "      <td>August</td>\n",
       "    </tr>\n",
       "    <tr>\n",
       "      <th>2</th>\n",
       "      <td>2017-08-19</td>\n",
       "      <td>8.320782</td>\n",
       "      <td>8.339188</td>\n",
       "      <td>8.255828</td>\n",
       "      <td>8.328446</td>\n",
       "      <td>381.309763</td>\n",
       "      <td>2017-08-19</td>\n",
       "      <td>Saturday</td>\n",
       "      <td>33</td>\n",
       "      <td>August</td>\n",
       "    </tr>\n",
       "    <tr>\n",
       "      <th>3</th>\n",
       "      <td>2017-08-20</td>\n",
       "      <td>8.323846</td>\n",
       "      <td>8.345474</td>\n",
       "      <td>8.302172</td>\n",
       "      <td>8.315393</td>\n",
       "      <td>467.083022</td>\n",
       "      <td>2017-08-20</td>\n",
       "      <td>Sunday</td>\n",
       "      <td>33</td>\n",
       "      <td>August</td>\n",
       "    </tr>\n",
       "    <tr>\n",
       "      <th>4</th>\n",
       "      <td>2017-08-21</td>\n",
       "      <td>8.311184</td>\n",
       "      <td>8.323516</td>\n",
       "      <td>8.271750</td>\n",
       "      <td>8.298042</td>\n",
       "      <td>691.743060</td>\n",
       "      <td>2017-08-21</td>\n",
       "      <td>Monday</td>\n",
       "      <td>34</td>\n",
       "      <td>August</td>\n",
       "    </tr>\n",
       "    <tr>\n",
       "      <th>...</th>\n",
       "      <td>...</td>\n",
       "      <td>...</td>\n",
       "      <td>...</td>\n",
       "      <td>...</td>\n",
       "      <td>...</td>\n",
       "      <td>...</td>\n",
       "      <td>...</td>\n",
       "      <td>...</td>\n",
       "      <td>...</td>\n",
       "      <td>...</td>\n",
       "    </tr>\n",
       "    <tr>\n",
       "      <th>1441</th>\n",
       "      <td>2021-07-28</td>\n",
       "      <td>10.582957</td>\n",
       "      <td>10.618885</td>\n",
       "      <td>10.565454</td>\n",
       "      <td>10.597124</td>\n",
       "      <td>101344.528441</td>\n",
       "      <td>2021-07-28</td>\n",
       "      <td>Wednesday</td>\n",
       "      <td>30</td>\n",
       "      <td>July</td>\n",
       "    </tr>\n",
       "    <tr>\n",
       "      <th>1442</th>\n",
       "      <td>2021-07-29</td>\n",
       "      <td>10.597124</td>\n",
       "      <td>10.612508</td>\n",
       "      <td>10.576432</td>\n",
       "      <td>10.597047</td>\n",
       "      <td>53998.439283</td>\n",
       "      <td>2021-07-29</td>\n",
       "      <td>Thursday</td>\n",
       "      <td>30</td>\n",
       "      <td>July</td>\n",
       "    </tr>\n",
       "    <tr>\n",
       "      <th>1443</th>\n",
       "      <td>2021-07-30</td>\n",
       "      <td>10.597097</td>\n",
       "      <td>10.652937</td>\n",
       "      <td>10.553551</td>\n",
       "      <td>10.650326</td>\n",
       "      <td>73602.784805</td>\n",
       "      <td>2021-07-30</td>\n",
       "      <td>Friday</td>\n",
       "      <td>30</td>\n",
       "      <td>July</td>\n",
       "    </tr>\n",
       "    <tr>\n",
       "      <th>1444</th>\n",
       "      <td>2021-07-31</td>\n",
       "      <td>10.650326</td>\n",
       "      <td>10.656035</td>\n",
       "      <td>10.621331</td>\n",
       "      <td>10.632529</td>\n",
       "      <td>44849.791012</td>\n",
       "      <td>2021-07-31</td>\n",
       "      <td>Saturday</td>\n",
       "      <td>30</td>\n",
       "      <td>July</td>\n",
       "    </tr>\n",
       "    <tr>\n",
       "      <th>1445</th>\n",
       "      <td>2021-08-01</td>\n",
       "      <td>10.632529</td>\n",
       "      <td>10.659586</td>\n",
       "      <td>10.614334</td>\n",
       "      <td>10.624990</td>\n",
       "      <td>37557.833000</td>\n",
       "      <td>2021-08-01</td>\n",
       "      <td>Sunday</td>\n",
       "      <td>30</td>\n",
       "      <td>August</td>\n",
       "    </tr>\n",
       "  </tbody>\n",
       "</table>\n",
       "<p>1446 rows × 10 columns</p>\n",
       "</div>"
      ],
      "text/plain": [
       "       timestamp       open       high        low      close         volume  \\\n",
       "0     2017-08-17   8.357372   8.408581   8.343016   8.362895     795.150377   \n",
       "1     2017-08-18   8.362895   8.382866   8.278624   8.320782    1199.888264   \n",
       "2     2017-08-19   8.320782   8.339188   8.255828   8.328446     381.309763   \n",
       "3     2017-08-20   8.323846   8.345474   8.302172   8.315393     467.083022   \n",
       "4     2017-08-21   8.311184   8.323516   8.271750   8.298042     691.743060   \n",
       "...          ...        ...        ...        ...        ...            ...   \n",
       "1441  2021-07-28  10.582957  10.618885  10.565454  10.597124  101344.528441   \n",
       "1442  2021-07-29  10.597124  10.612508  10.576432  10.597047   53998.439283   \n",
       "1443  2021-07-30  10.597097  10.652937  10.553551  10.650326   73602.784805   \n",
       "1444  2021-07-31  10.650326  10.656035  10.621331  10.632529   44849.791012   \n",
       "1445  2021-08-01  10.632529  10.659586  10.614334  10.624990   37557.833000   \n",
       "\n",
       "       datetime        day  week   month  \n",
       "0    2017-08-17   Thursday    33  August  \n",
       "1    2017-08-18     Friday    33  August  \n",
       "2    2017-08-19   Saturday    33  August  \n",
       "3    2017-08-20     Sunday    33  August  \n",
       "4    2017-08-21     Monday    34  August  \n",
       "...         ...        ...   ...     ...  \n",
       "1441 2021-07-28  Wednesday    30    July  \n",
       "1442 2021-07-29   Thursday    30    July  \n",
       "1443 2021-07-30     Friday    30    July  \n",
       "1444 2021-07-31   Saturday    30    July  \n",
       "1445 2021-08-01     Sunday    30  August  \n",
       "\n",
       "[1446 rows x 10 columns]"
      ]
     },
     "execution_count": 7,
     "metadata": {},
     "output_type": "execute_result"
    }
   ],
   "source": [
    "df"
   ]
  },
  {
   "cell_type": "code",
   "execution_count": 8,
   "metadata": {},
   "outputs": [],
   "source": [
    "# Add log return\n",
    "\n",
    "df['opcl'] = df['open'] - df['close']\n",
    "values = df['opcl'][1:].values\n",
    "df= df.drop(1445)\n",
    "df['opclN'] = values"
   ]
  },
  {
   "cell_type": "code",
   "execution_count": 9,
   "metadata": {},
   "outputs": [
    {
     "data": {
      "text/html": [
       "<div>\n",
       "<style scoped>\n",
       "    .dataframe tbody tr th:only-of-type {\n",
       "        vertical-align: middle;\n",
       "    }\n",
       "\n",
       "    .dataframe tbody tr th {\n",
       "        vertical-align: top;\n",
       "    }\n",
       "\n",
       "    .dataframe thead th {\n",
       "        text-align: right;\n",
       "    }\n",
       "</style>\n",
       "<table border=\"1\" class=\"dataframe\">\n",
       "  <thead>\n",
       "    <tr style=\"text-align: right;\">\n",
       "      <th></th>\n",
       "      <th>timestamp</th>\n",
       "      <th>open</th>\n",
       "      <th>high</th>\n",
       "      <th>low</th>\n",
       "      <th>close</th>\n",
       "      <th>volume</th>\n",
       "      <th>datetime</th>\n",
       "      <th>day</th>\n",
       "      <th>week</th>\n",
       "      <th>month</th>\n",
       "      <th>opcl</th>\n",
       "      <th>opclN</th>\n",
       "    </tr>\n",
       "  </thead>\n",
       "  <tbody>\n",
       "    <tr>\n",
       "      <th>0</th>\n",
       "      <td>2017-08-17</td>\n",
       "      <td>8.357372</td>\n",
       "      <td>8.408581</td>\n",
       "      <td>8.343016</td>\n",
       "      <td>8.362895</td>\n",
       "      <td>795.150377</td>\n",
       "      <td>2017-08-17</td>\n",
       "      <td>Thursday</td>\n",
       "      <td>33</td>\n",
       "      <td>August</td>\n",
       "      <td>-0.005523</td>\n",
       "      <td>0.042113</td>\n",
       "    </tr>\n",
       "    <tr>\n",
       "      <th>1</th>\n",
       "      <td>2017-08-18</td>\n",
       "      <td>8.362895</td>\n",
       "      <td>8.382866</td>\n",
       "      <td>8.278624</td>\n",
       "      <td>8.320782</td>\n",
       "      <td>1199.888264</td>\n",
       "      <td>2017-08-18</td>\n",
       "      <td>Friday</td>\n",
       "      <td>33</td>\n",
       "      <td>August</td>\n",
       "      <td>0.042113</td>\n",
       "      <td>-0.007665</td>\n",
       "    </tr>\n",
       "    <tr>\n",
       "      <th>2</th>\n",
       "      <td>2017-08-19</td>\n",
       "      <td>8.320782</td>\n",
       "      <td>8.339188</td>\n",
       "      <td>8.255828</td>\n",
       "      <td>8.328446</td>\n",
       "      <td>381.309763</td>\n",
       "      <td>2017-08-19</td>\n",
       "      <td>Saturday</td>\n",
       "      <td>33</td>\n",
       "      <td>August</td>\n",
       "      <td>-0.007665</td>\n",
       "      <td>0.008454</td>\n",
       "    </tr>\n",
       "    <tr>\n",
       "      <th>3</th>\n",
       "      <td>2017-08-20</td>\n",
       "      <td>8.323846</td>\n",
       "      <td>8.345474</td>\n",
       "      <td>8.302172</td>\n",
       "      <td>8.315393</td>\n",
       "      <td>467.083022</td>\n",
       "      <td>2017-08-20</td>\n",
       "      <td>Sunday</td>\n",
       "      <td>33</td>\n",
       "      <td>August</td>\n",
       "      <td>0.008454</td>\n",
       "      <td>0.013143</td>\n",
       "    </tr>\n",
       "    <tr>\n",
       "      <th>4</th>\n",
       "      <td>2017-08-21</td>\n",
       "      <td>8.311184</td>\n",
       "      <td>8.323516</td>\n",
       "      <td>8.271750</td>\n",
       "      <td>8.298042</td>\n",
       "      <td>691.743060</td>\n",
       "      <td>2017-08-21</td>\n",
       "      <td>Monday</td>\n",
       "      <td>34</td>\n",
       "      <td>August</td>\n",
       "      <td>0.013143</td>\n",
       "      <td>-0.005958</td>\n",
       "    </tr>\n",
       "    <tr>\n",
       "      <th>...</th>\n",
       "      <td>...</td>\n",
       "      <td>...</td>\n",
       "      <td>...</td>\n",
       "      <td>...</td>\n",
       "      <td>...</td>\n",
       "      <td>...</td>\n",
       "      <td>...</td>\n",
       "      <td>...</td>\n",
       "      <td>...</td>\n",
       "      <td>...</td>\n",
       "      <td>...</td>\n",
       "      <td>...</td>\n",
       "    </tr>\n",
       "    <tr>\n",
       "      <th>1440</th>\n",
       "      <td>2021-07-27</td>\n",
       "      <td>10.525174</td>\n",
       "      <td>10.585134</td>\n",
       "      <td>10.501857</td>\n",
       "      <td>10.582989</td>\n",
       "      <td>88397.267015</td>\n",
       "      <td>2021-07-27</td>\n",
       "      <td>Tuesday</td>\n",
       "      <td>30</td>\n",
       "      <td>July</td>\n",
       "      <td>-0.057814</td>\n",
       "      <td>-0.014167</td>\n",
       "    </tr>\n",
       "    <tr>\n",
       "      <th>1441</th>\n",
       "      <td>2021-07-28</td>\n",
       "      <td>10.582957</td>\n",
       "      <td>10.618885</td>\n",
       "      <td>10.565454</td>\n",
       "      <td>10.597124</td>\n",
       "      <td>101344.528441</td>\n",
       "      <td>2021-07-28</td>\n",
       "      <td>Wednesday</td>\n",
       "      <td>30</td>\n",
       "      <td>July</td>\n",
       "      <td>-0.014167</td>\n",
       "      <td>0.000077</td>\n",
       "    </tr>\n",
       "    <tr>\n",
       "      <th>1442</th>\n",
       "      <td>2021-07-29</td>\n",
       "      <td>10.597124</td>\n",
       "      <td>10.612508</td>\n",
       "      <td>10.576432</td>\n",
       "      <td>10.597047</td>\n",
       "      <td>53998.439283</td>\n",
       "      <td>2021-07-29</td>\n",
       "      <td>Thursday</td>\n",
       "      <td>30</td>\n",
       "      <td>July</td>\n",
       "      <td>0.000077</td>\n",
       "      <td>-0.053230</td>\n",
       "    </tr>\n",
       "    <tr>\n",
       "      <th>1443</th>\n",
       "      <td>2021-07-30</td>\n",
       "      <td>10.597097</td>\n",
       "      <td>10.652937</td>\n",
       "      <td>10.553551</td>\n",
       "      <td>10.650326</td>\n",
       "      <td>73602.784805</td>\n",
       "      <td>2021-07-30</td>\n",
       "      <td>Friday</td>\n",
       "      <td>30</td>\n",
       "      <td>July</td>\n",
       "      <td>-0.053230</td>\n",
       "      <td>0.017798</td>\n",
       "    </tr>\n",
       "    <tr>\n",
       "      <th>1444</th>\n",
       "      <td>2021-07-31</td>\n",
       "      <td>10.650326</td>\n",
       "      <td>10.656035</td>\n",
       "      <td>10.621331</td>\n",
       "      <td>10.632529</td>\n",
       "      <td>44849.791012</td>\n",
       "      <td>2021-07-31</td>\n",
       "      <td>Saturday</td>\n",
       "      <td>30</td>\n",
       "      <td>July</td>\n",
       "      <td>0.017798</td>\n",
       "      <td>0.007539</td>\n",
       "    </tr>\n",
       "  </tbody>\n",
       "</table>\n",
       "<p>1445 rows × 12 columns</p>\n",
       "</div>"
      ],
      "text/plain": [
       "       timestamp       open       high        low      close         volume  \\\n",
       "0     2017-08-17   8.357372   8.408581   8.343016   8.362895     795.150377   \n",
       "1     2017-08-18   8.362895   8.382866   8.278624   8.320782    1199.888264   \n",
       "2     2017-08-19   8.320782   8.339188   8.255828   8.328446     381.309763   \n",
       "3     2017-08-20   8.323846   8.345474   8.302172   8.315393     467.083022   \n",
       "4     2017-08-21   8.311184   8.323516   8.271750   8.298042     691.743060   \n",
       "...          ...        ...        ...        ...        ...            ...   \n",
       "1440  2021-07-27  10.525174  10.585134  10.501857  10.582989   88397.267015   \n",
       "1441  2021-07-28  10.582957  10.618885  10.565454  10.597124  101344.528441   \n",
       "1442  2021-07-29  10.597124  10.612508  10.576432  10.597047   53998.439283   \n",
       "1443  2021-07-30  10.597097  10.652937  10.553551  10.650326   73602.784805   \n",
       "1444  2021-07-31  10.650326  10.656035  10.621331  10.632529   44849.791012   \n",
       "\n",
       "       datetime        day  week   month      opcl     opclN  \n",
       "0    2017-08-17   Thursday    33  August -0.005523  0.042113  \n",
       "1    2017-08-18     Friday    33  August  0.042113 -0.007665  \n",
       "2    2017-08-19   Saturday    33  August -0.007665  0.008454  \n",
       "3    2017-08-20     Sunday    33  August  0.008454  0.013143  \n",
       "4    2017-08-21     Monday    34  August  0.013143 -0.005958  \n",
       "...         ...        ...   ...     ...       ...       ...  \n",
       "1440 2021-07-27    Tuesday    30    July -0.057814 -0.014167  \n",
       "1441 2021-07-28  Wednesday    30    July -0.014167  0.000077  \n",
       "1442 2021-07-29   Thursday    30    July  0.000077 -0.053230  \n",
       "1443 2021-07-30     Friday    30    July -0.053230  0.017798  \n",
       "1444 2021-07-31   Saturday    30    July  0.017798  0.007539  \n",
       "\n",
       "[1445 rows x 12 columns]"
      ]
     },
     "execution_count": 9,
     "metadata": {},
     "output_type": "execute_result"
    }
   ],
   "source": [
    "df"
   ]
  },
  {
   "cell_type": "markdown",
   "metadata": {},
   "source": [
    "We found that there is not evident correlation between previous price and following price."
   ]
  },
  {
   "cell_type": "code",
   "execution_count": 10,
   "metadata": {},
   "outputs": [
    {
     "data": {
      "text/plain": [
       "<matplotlib.lines.Line2D at 0x1fd29ca6f08>"
      ]
     },
     "execution_count": 10,
     "metadata": {},
     "output_type": "execute_result"
    },
    {
     "data": {
      "image/png": "[encoded data removed]",
      "text/plain": [
       "<Figure size 720x360 with 1 Axes>"
      ]
     },
     "metadata": {
      "needs_background": "light"
     },
     "output_type": "display_data"
    }
   ],
   "source": [
    "import seaborn as sns\n",
    "df['opclN'].hist(bins=50, figsize=(10,5)).axvline(df['opclN'].median(), color='b', linestyle='dashed', linewidth=2)"
   ]
  },
  {
   "cell_type": "code",
   "execution_count": 11,
   "metadata": {},
   "outputs": [
    {
     "data": {
      "text/plain": [
       "<matplotlib.lines.Line2D at 0x1fd29beee08>"
      ]
     },
     "execution_count": 11,
     "metadata": {},
     "output_type": "execute_result"
    },
    {
     "data": {
      "image/png": "[encoded data removed]",
      "text/plain": [
       "<Figure size 1080x720 with 1 Axes>"
      ]
     },
     "metadata": {
      "needs_background": "light"
     },
     "output_type": "display_data"
    }
   ],
   "source": [
    "df['open'].hist(bins=50, figsize=(15,10)).axvline(df['open'].median(), color='b', linestyle='dashed', linewidth=2)"
   ]
  },
  {
   "cell_type": "code",
   "execution_count": 12,
   "metadata": {},
   "outputs": [
    {
     "data": {
      "image/png": "[encoded data removed]",
      "text/plain": [
       "<Figure size 432x288 with 1 Axes>"
      ]
     },
     "metadata": {
      "needs_background": "light"
     },
     "output_type": "display_data"
    }
   ],
   "source": [
    "# Box plot of changing price.\n",
    "\n",
    "sns.boxplot(data = df['opclN'], orient=\"h\")\n",
    "plt.title('Box Plot return')\n",
    "plt.show()"
   ]
  },
  {
   "cell_type": "code",
   "execution_count": 13,
   "metadata": {},
   "outputs": [
    {
     "data": {
      "image/png": "[encoded data removed]",
      "text/plain": [
       "<Figure size 432x288 with 1 Axes>"
      ]
     },
     "metadata": {
      "needs_background": "light"
     },
     "output_type": "display_data"
    }
   ],
   "source": [
    "# Box plot of the open price.\n",
    "\n",
    "sns.boxplot(data = df['open'], orient=\"h\")\n",
    "plt.title('Box Plot for log price')\n",
    "plt.show()"
   ]
  },
  {
   "cell_type": "code",
   "execution_count": 14,
   "metadata": {},
   "outputs": [
    {
     "data": {
      "image/png": "[encoded data removed]",
      "text/plain": [
       "<Figure size 640x480 with 1 Axes>"
      ]
     },
     "metadata": {
      "needs_background": "light"
     },
     "output_type": "display_data"
    }
   ],
   "source": [
    "plt.figure(figsize=(8, 6), dpi=80)\n",
    "plt.plot(df['datetime'],df['volume'])\n",
    "\n",
    "plt.show()"
   ]
  },
  {
   "cell_type": "code",
   "execution_count": 21,
   "metadata": {},
   "outputs": [
    {
     "ename": "AttributeError",
     "evalue": "'Line2D' object has no property 'rot'",
     "output_type": "error",
     "traceback": [
      "\u001b[1;31m---------------------------------------------------------------------------\u001b[0m",
      "\u001b[1;31mAttributeError\u001b[0m                            Traceback (most recent call last)",
      "\u001b[1;32m<ipython-input-21-01d461ceb623>\u001b[0m in \u001b[0;36m<module>\u001b[1;34m\u001b[0m\n\u001b[0;32m      1\u001b[0m \u001b[1;31m# rolling average of volume\u001b[0m\u001b[1;33m\u001b[0m\u001b[1;33m\u001b[0m\u001b[1;33m\u001b[0m\u001b[0m\n\u001b[0;32m      2\u001b[0m \u001b[1;33m\u001b[0m\u001b[0m\n\u001b[1;32m----> 3\u001b[1;33m \u001b[0mplt\u001b[0m\u001b[1;33m.\u001b[0m\u001b[0mplot\u001b[0m\u001b[1;33m(\u001b[0m\u001b[0mdf\u001b[0m\u001b[1;33m[\u001b[0m\u001b[1;34m'datetime'\u001b[0m\u001b[1;33m]\u001b[0m\u001b[1;33m,\u001b[0m\u001b[0mdf\u001b[0m\u001b[1;33m[\u001b[0m\u001b[1;34m'volume'\u001b[0m\u001b[1;33m]\u001b[0m\u001b[1;33m.\u001b[0m\u001b[0mrolling\u001b[0m\u001b[1;33m(\u001b[0m\u001b[1;36m7\u001b[0m\u001b[1;33m)\u001b[0m\u001b[1;33m.\u001b[0m\u001b[0mmean\u001b[0m\u001b[1;33m(\u001b[0m\u001b[1;33m)\u001b[0m\u001b[1;33m,\u001b[0m\u001b[0mrot\u001b[0m\u001b[1;33m=\u001b[0m\u001b[1;36m0\u001b[0m\u001b[1;33m)\u001b[0m\u001b[1;33m\u001b[0m\u001b[1;33m\u001b[0m\u001b[0m\n\u001b[0m\u001b[0;32m      4\u001b[0m \u001b[0mplt\u001b[0m\u001b[1;33m.\u001b[0m\u001b[0mshow\u001b[0m\u001b[1;33m(\u001b[0m\u001b[1;33m)\u001b[0m\u001b[1;33m\u001b[0m\u001b[1;33m\u001b[0m\u001b[0m\n",
      "\u001b[1;32m~\\anaconda3\\envs\\work\\lib\\site-packages\\matplotlib\\pyplot.py\u001b[0m in \u001b[0;36mplot\u001b[1;34m(scalex, scaley, data, *args, **kwargs)\u001b[0m\n\u001b[0;32m   2988\u001b[0m     return gca().plot(\n\u001b[0;32m   2989\u001b[0m         \u001b[1;33m*\u001b[0m\u001b[0margs\u001b[0m\u001b[1;33m,\u001b[0m \u001b[0mscalex\u001b[0m\u001b[1;33m=\u001b[0m\u001b[0mscalex\u001b[0m\u001b[1;33m,\u001b[0m \u001b[0mscaley\u001b[0m\u001b[1;33m=\u001b[0m\u001b[0mscaley\u001b[0m\u001b[1;33m,\u001b[0m\u001b[1;33m\u001b[0m\u001b[1;33m\u001b[0m\u001b[0m\n\u001b[1;32m-> 2990\u001b[1;33m         **({\"data\": data} if data is not None else {}), **kwargs)\n\u001b[0m\u001b[0;32m   2991\u001b[0m \u001b[1;33m\u001b[0m\u001b[0m\n\u001b[0;32m   2992\u001b[0m \u001b[1;33m\u001b[0m\u001b[0m\n",
      "\u001b[1;32m~\\anaconda3\\envs\\work\\lib\\site-packages\\matplotlib\\axes\\_axes.py\u001b[0m in \u001b[0;36mplot\u001b[1;34m(self, scalex, scaley, data, *args, **kwargs)\u001b[0m\n\u001b[0;32m   1603\u001b[0m         \"\"\"\n\u001b[0;32m   1604\u001b[0m         \u001b[0mkwargs\u001b[0m \u001b[1;33m=\u001b[0m \u001b[0mcbook\u001b[0m\u001b[1;33m.\u001b[0m\u001b[0mnormalize_kwargs\u001b[0m\u001b[1;33m(\u001b[0m\u001b[0mkwargs\u001b[0m\u001b[1;33m,\u001b[0m \u001b[0mmlines\u001b[0m\u001b[1;33m.\u001b[0m\u001b[0mLine2D\u001b[0m\u001b[1;33m)\u001b[0m\u001b[1;33m\u001b[0m\u001b[1;33m\u001b[0m\u001b[0m\n\u001b[1;32m-> 1605\u001b[1;33m         \u001b[0mlines\u001b[0m \u001b[1;33m=\u001b[0m \u001b[1;33m[\u001b[0m\u001b[1;33m*\u001b[0m\u001b[0mself\u001b[0m\u001b[1;33m.\u001b[0m\u001b[0m_get_lines\u001b[0m\u001b[1;33m(\u001b[0m\u001b[1;33m*\u001b[0m\u001b[0margs\u001b[0m\u001b[1;33m,\u001b[0m \u001b[0mdata\u001b[0m\u001b[1;33m=\u001b[0m\u001b[0mdata\u001b[0m\u001b[1;33m,\u001b[0m \u001b[1;33m**\u001b[0m\u001b[0mkwargs\u001b[0m\u001b[1;33m)\u001b[0m\u001b[1;33m]\u001b[0m\u001b[1;33m\u001b[0m\u001b[1;33m\u001b[0m\u001b[0m\n\u001b[0m\u001b[0;32m   1606\u001b[0m         \u001b[1;32mfor\u001b[0m \u001b[0mline\u001b[0m \u001b[1;32min\u001b[0m \u001b[0mlines\u001b[0m\u001b[1;33m:\u001b[0m\u001b[1;33m\u001b[0m\u001b[1;33m\u001b[0m\u001b[0m\n\u001b[0;32m   1607\u001b[0m             \u001b[0mself\u001b[0m\u001b[1;33m.\u001b[0m\u001b[0madd_line\u001b[0m\u001b[1;33m(\u001b[0m\u001b[0mline\u001b[0m\u001b[1;33m)\u001b[0m\u001b[1;33m\u001b[0m\u001b[1;33m\u001b[0m\u001b[0m\n",
      "\u001b[1;32m~\\anaconda3\\envs\\work\\lib\\site-packages\\matplotlib\\axes\\_base.py\u001b[0m in \u001b[0;36m__call__\u001b[1;34m(self, data, *args, **kwargs)\u001b[0m\n\u001b[0;32m    313\u001b[0m                 \u001b[0mthis\u001b[0m \u001b[1;33m+=\u001b[0m \u001b[0margs\u001b[0m\u001b[1;33m[\u001b[0m\u001b[1;36m0\u001b[0m\u001b[1;33m]\u001b[0m\u001b[1;33m,\u001b[0m\u001b[1;33m\u001b[0m\u001b[1;33m\u001b[0m\u001b[0m\n\u001b[0;32m    314\u001b[0m                 \u001b[0margs\u001b[0m \u001b[1;33m=\u001b[0m \u001b[0margs\u001b[0m\u001b[1;33m[\u001b[0m\u001b[1;36m1\u001b[0m\u001b[1;33m:\u001b[0m\u001b[1;33m]\u001b[0m\u001b[1;33m\u001b[0m\u001b[1;33m\u001b[0m\u001b[0m\n\u001b[1;32m--> 315\u001b[1;33m             \u001b[1;32myield\u001b[0m \u001b[1;32mfrom\u001b[0m \u001b[0mself\u001b[0m\u001b[1;33m.\u001b[0m\u001b[0m_plot_args\u001b[0m\u001b[1;33m(\u001b[0m\u001b[0mthis\u001b[0m\u001b[1;33m,\u001b[0m \u001b[0mkwargs\u001b[0m\u001b[1;33m)\u001b[0m\u001b[1;33m\u001b[0m\u001b[1;33m\u001b[0m\u001b[0m\n\u001b[0m\u001b[0;32m    316\u001b[0m \u001b[1;33m\u001b[0m\u001b[0m\n\u001b[0;32m    317\u001b[0m     \u001b[1;32mdef\u001b[0m \u001b[0mget_next_color\u001b[0m\u001b[1;33m(\u001b[0m\u001b[0mself\u001b[0m\u001b[1;33m)\u001b[0m\u001b[1;33m:\u001b[0m\u001b[1;33m\u001b[0m\u001b[1;33m\u001b[0m\u001b[0m\n",
      "\u001b[1;32m~\\anaconda3\\envs\\work\\lib\\site-packages\\matplotlib\\axes\\_base.py\u001b[0m in \u001b[0;36m_plot_args\u001b[1;34m(self, tup, kwargs, return_kwargs)\u001b[0m\n\u001b[0;32m    537\u001b[0m             \u001b[1;32mreturn\u001b[0m \u001b[0mlist\u001b[0m\u001b[1;33m(\u001b[0m\u001b[0mresult\u001b[0m\u001b[1;33m)\u001b[0m\u001b[1;33m\u001b[0m\u001b[1;33m\u001b[0m\u001b[0m\n\u001b[0;32m    538\u001b[0m         \u001b[1;32melse\u001b[0m\u001b[1;33m:\u001b[0m\u001b[1;33m\u001b[0m\u001b[1;33m\u001b[0m\u001b[0m\n\u001b[1;32m--> 539\u001b[1;33m             \u001b[1;32mreturn\u001b[0m \u001b[1;33m[\u001b[0m\u001b[0ml\u001b[0m\u001b[1;33m[\u001b[0m\u001b[1;36m0\u001b[0m\u001b[1;33m]\u001b[0m \u001b[1;32mfor\u001b[0m \u001b[0ml\u001b[0m \u001b[1;32min\u001b[0m \u001b[0mresult\u001b[0m\u001b[1;33m]\u001b[0m\u001b[1;33m\u001b[0m\u001b[1;33m\u001b[0m\u001b[0m\n\u001b[0m\u001b[0;32m    540\u001b[0m \u001b[1;33m\u001b[0m\u001b[0m\n\u001b[0;32m    541\u001b[0m \u001b[1;33m\u001b[0m\u001b[0m\n",
      "\u001b[1;32m~\\anaconda3\\envs\\work\\lib\\site-packages\\matplotlib\\axes\\_base.py\u001b[0m in \u001b[0;36m<listcomp>\u001b[1;34m(.0)\u001b[0m\n\u001b[0;32m    537\u001b[0m             \u001b[1;32mreturn\u001b[0m \u001b[0mlist\u001b[0m\u001b[1;33m(\u001b[0m\u001b[0mresult\u001b[0m\u001b[1;33m)\u001b[0m\u001b[1;33m\u001b[0m\u001b[1;33m\u001b[0m\u001b[0m\n\u001b[0;32m    538\u001b[0m         \u001b[1;32melse\u001b[0m\u001b[1;33m:\u001b[0m\u001b[1;33m\u001b[0m\u001b[1;33m\u001b[0m\u001b[0m\n\u001b[1;32m--> 539\u001b[1;33m             \u001b[1;32mreturn\u001b[0m \u001b[1;33m[\u001b[0m\u001b[0ml\u001b[0m\u001b[1;33m[\u001b[0m\u001b[1;36m0\u001b[0m\u001b[1;33m]\u001b[0m \u001b[1;32mfor\u001b[0m \u001b[0ml\u001b[0m \u001b[1;32min\u001b[0m \u001b[0mresult\u001b[0m\u001b[1;33m]\u001b[0m\u001b[1;33m\u001b[0m\u001b[1;33m\u001b[0m\u001b[0m\n\u001b[0m\u001b[0;32m    540\u001b[0m \u001b[1;33m\u001b[0m\u001b[0m\n\u001b[0;32m    541\u001b[0m \u001b[1;33m\u001b[0m\u001b[0m\n",
      "\u001b[1;32m~\\anaconda3\\envs\\work\\lib\\site-packages\\matplotlib\\axes\\_base.py\u001b[0m in \u001b[0;36m<genexpr>\u001b[1;34m(.0)\u001b[0m\n\u001b[0;32m    532\u001b[0m         result = (make_artist(x[:, j % ncx], y[:, j % ncy], kw,\n\u001b[0;32m    533\u001b[0m                               {**kwargs, 'label': label})\n\u001b[1;32m--> 534\u001b[1;33m                   for j, label in enumerate(labels))\n\u001b[0m\u001b[0;32m    535\u001b[0m \u001b[1;33m\u001b[0m\u001b[0m\n\u001b[0;32m    536\u001b[0m         \u001b[1;32mif\u001b[0m \u001b[0mreturn_kwargs\u001b[0m\u001b[1;33m:\u001b[0m\u001b[1;33m\u001b[0m\u001b[1;33m\u001b[0m\u001b[0m\n",
      "\u001b[1;32m~\\anaconda3\\envs\\work\\lib\\site-packages\\matplotlib\\axes\\_base.py\u001b[0m in \u001b[0;36m_makeline\u001b[1;34m(self, x, y, kw, kwargs)\u001b[0m\n\u001b[0;32m    352\u001b[0m         \u001b[0mdefault_dict\u001b[0m \u001b[1;33m=\u001b[0m \u001b[0mself\u001b[0m\u001b[1;33m.\u001b[0m\u001b[0m_getdefaults\u001b[0m\u001b[1;33m(\u001b[0m\u001b[0mset\u001b[0m\u001b[1;33m(\u001b[0m\u001b[1;33m)\u001b[0m\u001b[1;33m,\u001b[0m \u001b[0mkw\u001b[0m\u001b[1;33m)\u001b[0m\u001b[1;33m\u001b[0m\u001b[1;33m\u001b[0m\u001b[0m\n\u001b[0;32m    353\u001b[0m         \u001b[0mself\u001b[0m\u001b[1;33m.\u001b[0m\u001b[0m_setdefaults\u001b[0m\u001b[1;33m(\u001b[0m\u001b[0mdefault_dict\u001b[0m\u001b[1;33m,\u001b[0m \u001b[0mkw\u001b[0m\u001b[1;33m)\u001b[0m\u001b[1;33m\u001b[0m\u001b[1;33m\u001b[0m\u001b[0m\n\u001b[1;32m--> 354\u001b[1;33m         \u001b[0mseg\u001b[0m \u001b[1;33m=\u001b[0m \u001b[0mmlines\u001b[0m\u001b[1;33m.\u001b[0m\u001b[0mLine2D\u001b[0m\u001b[1;33m(\u001b[0m\u001b[0mx\u001b[0m\u001b[1;33m,\u001b[0m \u001b[0my\u001b[0m\u001b[1;33m,\u001b[0m \u001b[1;33m**\u001b[0m\u001b[0mkw\u001b[0m\u001b[1;33m)\u001b[0m\u001b[1;33m\u001b[0m\u001b[1;33m\u001b[0m\u001b[0m\n\u001b[0m\u001b[0;32m    355\u001b[0m         \u001b[1;32mreturn\u001b[0m \u001b[0mseg\u001b[0m\u001b[1;33m,\u001b[0m \u001b[0mkw\u001b[0m\u001b[1;33m\u001b[0m\u001b[1;33m\u001b[0m\u001b[0m\n\u001b[0;32m    356\u001b[0m \u001b[1;33m\u001b[0m\u001b[0m\n",
      "\u001b[1;32m~\\anaconda3\\envs\\work\\lib\\site-packages\\matplotlib\\lines.py\u001b[0m in \u001b[0;36m__init__\u001b[1;34m(self, xdata, ydata, linewidth, linestyle, color, marker, markersize, markeredgewidth, markeredgecolor, markerfacecolor, markerfacecoloralt, fillstyle, antialiased, dash_capstyle, solid_capstyle, dash_joinstyle, solid_joinstyle, pickradius, drawstyle, markevery, **kwargs)\u001b[0m\n\u001b[0;32m    395\u001b[0m         \u001b[1;31m# update kwargs before updating data to give the caller a\u001b[0m\u001b[1;33m\u001b[0m\u001b[1;33m\u001b[0m\u001b[1;33m\u001b[0m\u001b[0m\n\u001b[0;32m    396\u001b[0m         \u001b[1;31m# chance to init axes (and hence unit support)\u001b[0m\u001b[1;33m\u001b[0m\u001b[1;33m\u001b[0m\u001b[1;33m\u001b[0m\u001b[0m\n\u001b[1;32m--> 397\u001b[1;33m         \u001b[0mself\u001b[0m\u001b[1;33m.\u001b[0m\u001b[0mupdate\u001b[0m\u001b[1;33m(\u001b[0m\u001b[0mkwargs\u001b[0m\u001b[1;33m)\u001b[0m\u001b[1;33m\u001b[0m\u001b[1;33m\u001b[0m\u001b[0m\n\u001b[0m\u001b[0;32m    398\u001b[0m         \u001b[0mself\u001b[0m\u001b[1;33m.\u001b[0m\u001b[0mpickradius\u001b[0m \u001b[1;33m=\u001b[0m \u001b[0mpickradius\u001b[0m\u001b[1;33m\u001b[0m\u001b[1;33m\u001b[0m\u001b[0m\n\u001b[0;32m    399\u001b[0m         \u001b[0mself\u001b[0m\u001b[1;33m.\u001b[0m\u001b[0mind_offset\u001b[0m \u001b[1;33m=\u001b[0m \u001b[1;36m0\u001b[0m\u001b[1;33m\u001b[0m\u001b[1;33m\u001b[0m\u001b[0m\n",
      "\u001b[1;32m~\\anaconda3\\envs\\work\\lib\\site-packages\\matplotlib\\artist.py\u001b[0m in \u001b[0;36mupdate\u001b[1;34m(self, props)\u001b[0m\n\u001b[0;32m   1060\u001b[0m                     \u001b[0mfunc\u001b[0m \u001b[1;33m=\u001b[0m \u001b[0mgetattr\u001b[0m\u001b[1;33m(\u001b[0m\u001b[0mself\u001b[0m\u001b[1;33m,\u001b[0m \u001b[1;34mf\"set_{k}\"\u001b[0m\u001b[1;33m,\u001b[0m \u001b[1;32mNone\u001b[0m\u001b[1;33m)\u001b[0m\u001b[1;33m\u001b[0m\u001b[1;33m\u001b[0m\u001b[0m\n\u001b[0;32m   1061\u001b[0m                     \u001b[1;32mif\u001b[0m \u001b[1;32mnot\u001b[0m \u001b[0mcallable\u001b[0m\u001b[1;33m(\u001b[0m\u001b[0mfunc\u001b[0m\u001b[1;33m)\u001b[0m\u001b[1;33m:\u001b[0m\u001b[1;33m\u001b[0m\u001b[1;33m\u001b[0m\u001b[0m\n\u001b[1;32m-> 1062\u001b[1;33m                         raise AttributeError(f\"{type(self).__name__!r} object \"\n\u001b[0m\u001b[0;32m   1063\u001b[0m                                              f\"has no property {k!r}\")\n\u001b[0;32m   1064\u001b[0m                     \u001b[0mret\u001b[0m\u001b[1;33m.\u001b[0m\u001b[0mappend\u001b[0m\u001b[1;33m(\u001b[0m\u001b[0mfunc\u001b[0m\u001b[1;33m(\u001b[0m\u001b[0mv\u001b[0m\u001b[1;33m)\u001b[0m\u001b[1;33m)\u001b[0m\u001b[1;33m\u001b[0m\u001b[1;33m\u001b[0m\u001b[0m\n",
      "\u001b[1;31mAttributeError\u001b[0m: 'Line2D' object has no property 'rot'"
     ]
    },
    {
     "data": {
      "image/png": "[encoded data removed]",
      "text/plain": [
       "<Figure size 432x288 with 1 Axes>"
      ]
     },
     "metadata": {
      "needs_background": "light"
     },
     "output_type": "display_data"
    }
   ],
   "source": [
    "# rolling average of volume\n",
    "\n",
    "plt.plot(df['datetime'],df['volume'].rolling(7).mean(),rot=0)\n",
    "plt.show()"
   ]
  },
  {
   "cell_type": "code",
   "execution_count": 16,
   "metadata": {},
   "outputs": [
    {
     "data": {
      "image/png": "[encoded data removed]",
      "text/plain": [
       "<Figure size 432x288 with 1 Axes>"
      ]
     },
     "metadata": {
      "needs_background": "light"
     },
     "output_type": "display_data"
    }
   ],
   "source": [
    "# Rolling average of price\n",
    "\n",
    "plt.plot(df['datetime'],df['open'].rolling(7).mean())\n",
    "plt.show()"
   ]
  },
  {
   "cell_type": "code",
   "execution_count": 17,
   "metadata": {},
   "outputs": [
    {
     "data": {
      "text/plain": [
       "0.006008596189346682"
      ]
     },
     "execution_count": 17,
     "metadata": {},
     "output_type": "execute_result"
    }
   ],
   "source": [
    "# Use linear regression to find correlation\n",
    "\n",
    "import numpy as np\n",
    "from sklearn.linear_model import LinearRegression\n",
    "\n",
    "Xtrain = df[['open','high','low','close','volume']]\n",
    "ytrain = df[['opclN']]\n",
    "\n",
    "\n",
    "model = LinearRegression().fit( Xtrain,ytrain)\n",
    "model.score(Xtrain,ytrain)"
   ]
  },
  {
   "cell_type": "code",
   "execution_count": 18,
   "metadata": {},
   "outputs": [
    {
     "name": "stdout",
     "output_type": "stream",
     "text": [
      "Using 1 series: mu1 = 0.0025398, mu2 = 0.0108138, sigma = 0.0436566\n"
     ]
    }
   ],
   "source": [
    "# Brownian Motion estimation\n",
    "\n",
    "# Estimate mu just from the series end-points\n",
    "# Note this is for a linear drift-diffusion process, i.e. the log of GBM\n",
    "\n",
    "dt = 1\n",
    "\n",
    "n = len(df['open'])\n",
    "\n",
    "T = dt*n\n",
    "ts = np.linspace(dt, T, n)\n",
    "\n",
    "\n",
    "def simple_estimate_mu(series):\n",
    "    return (series.iloc[-1] - series.iloc[0]) / T\n",
    "\n",
    "# Use all the increments combined (maximum likelihood estimator)\n",
    "# Note this is for a linear drift-diffusion process, i.e. the log of GBM\n",
    "def incremental_estimate_mu(series):\n",
    "\n",
    "    total = (1.0 / dt) * (ts**2).sum()\n",
    "    return (1.0 / total) * (1.0 / dt) * ( ts * series ).sum()\n",
    "\n",
    "# This just estimates the sigma by its definition as the infinitesimal variance (simple Monte Carlo)\n",
    "# Note this is for a linear drift-diffusion process, i.e. the log of GBM\n",
    "# One can do better than this of course (MLE?)\n",
    "def estimate_sigma(series):\n",
    "    dt = 1\n",
    "    return np.sqrt( ( np.diff(series)**2 ).sum() / (n * dt))\n",
    "\n",
    "# Estimator helper\n",
    "all_estimates0 = lambda s: (simple_estimate_mu(s), incremental_estimate_mu(s), estimate_sigma(s))\n",
    "\n",
    "# Since log-GBM is a linear Ito drift-diffusion process (scaled Wiener process with drift), we\n",
    "# take the log of the realizations, compute mu and sigma, and then translate the mu and sigma\n",
    "# to that of the GBM (instead of the log-GBM). (For sigma, nothing is required in this simple case).\n",
    "def gbm_drift(log_mu, log_sigma):\n",
    "    return log_mu + 0.5 * log_sigma**2\n",
    "\n",
    "# Translates all the estimates from the log-series\n",
    "def all_estimates(es):\n",
    "    lmu1, lmu2, sigma = all_estimates0(es)\n",
    "    return gbm_drift(lmu1, sigma), gbm_drift(lmu2, sigma), sigma\n",
    "\n",
    "\n",
    "\n",
    "### Using one series ###\n",
    "log_series = df['open']\n",
    "\n",
    "print('Using 1 series: mu1 = %.7f, mu2 = %.7f, sigma = %.7f' % all_estimates(log_series) )\n"
   ]
  },
  {
   "cell_type": "markdown",
   "metadata": {},
   "source": [
    "As the mu1 and mu2 has a large bias, we conclude that Brownian Motion is not a good process to decribe this sequence. Some other process like Levy process (Say CGMY) might be better."
   ]
  }
 ],
 "metadata": {
  "instance_type": "ml.t3.medium",
  "kernelspec": {
   "display_name": "Python 3",
   "language": "python",
   "name": "python3"
  },
  "language_info": {
   "codemirror_mode": {
    "name": "ipython",
    "version": 3
   },
   "file_extension": ".py",
   "mimetype": "text/x-python",
   "name": "python",
   "nbconvert_exporter": "python",
   "pygments_lexer": "ipython3",
   "version": "3.7.10"
  }
 },
 "nbformat": 4,
 "nbformat_minor": 4
}
