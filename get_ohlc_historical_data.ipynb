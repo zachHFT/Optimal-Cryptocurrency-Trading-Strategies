{
 "cells": [
  {
   "cell_type": "code",
   "execution_count": 6,
   "metadata": {},
   "outputs": [],
   "source": [
    "%pip install python-binance #This package is not present in the standard library databases, need to pip install it"
   ]
  },
  {
   "cell_type": "code",
   "execution_count": 7,
   "metadata": {},
   "outputs": [],
   "source": [
    "# IMPORTS\n",
    "import pandas as pd\n",
    "import math\n",
    "import os.path\n",
    "from datetime import datetime\n",
    "from datetime import date\n",
    "from dateutil import parser\n",
    "import pickle\n",
    "import asyncio\n",
    "from datetime import timedelta\n",
    "import dateutil.parser\n",
    "import imp\n",
    "import json\n",
    "\n",
    "from binance.client import Client\n",
    "\n",
    "#import api #You need to create your own api.py file which contains the api keys\n",
    "import get_uptodate_binance_data"
   ]
  },
  {
   "cell_type": "code",
   "execution_count": 9,
   "metadata": {},
   "outputs": [],
   "source": [
    "imp.reload(api)\n",
    "imp.reload(get_uptodate_binance_data)"
   ]
  },
  {
   "cell_type": "code",
   "execution_count": 1,
   "metadata": {},
   "outputs": [],
   "source": [
    "# os.chdir('/root/') #Do not forget to set yourself within the correct directory you wish to work in"
   ]
  },
  {
   "cell_type": "code",
   "execution_count": 10,
   "metadata": {},
   "outputs": [],
   "source": [
    "with open('data_core.json') as json_file: #Open and Load the data_core json file which is gives is a structured repo of all our .csv data files\n",
    "    data_core = json.load(json_file)"
   ]
  },
  {
   "cell_type": "code",
   "execution_count": null,
   "metadata": {},
   "outputs": [],
   "source": [
    "print(json.dumps(data_core, indent=4)) #to see the structure of the json file"
   ]
  },
  {
   "cell_type": "markdown",
   "metadata": {},
   "source": [
    "# Get Up-to-date Data"
   ]
  },
  {
   "cell_type": "code",
   "execution_count": null,
   "metadata": {},
   "outputs": [
    {
     "name": "stdout",
     "output_type": "stream",
     "text": [
      "Downloading '8640' minutes of new data available for 'BTCUSDT', i.e. '8640' instances of '1m' data.\n",
      "All caught up..!\n",
      "Downloading '8640' minutes of new data available for 'ETHUSDT', i.e. '8640' instances of '1m' data.\n",
      "All caught up..!\n",
      "Downloading '8640' minutes of new data available for 'BNBUSDT', i.e. '8640' instances of '1m' data.\n",
      "All caught up..!\n",
      "Downloading all available '1m' data for 'LTCUSDT'. Wait for a bit..!\n"
     ]
    }
   ],
   "source": [
    "%%time\n",
    "get_uptodate_binance_data.update_data_for_basepair(base_pair='USDT', nb_symbols_limit=5, bin_size='1d') \n",
    "'''Download all tradeable (i.e. active) pairs for the base pair 'USDT' with bin_size ('1d', '1h', '5m', '1m').\n",
    "If you want only 10 pairs of data, set nb_symbols_limit=10\n",
    "Note: Downloading all '1m' (1 minutes ) data will likely crash your computer unless you run it onto a powerful machine. \n",
    "I would advise starting with '1d' (1 day) data.'''"
   ]
  },
  {
   "cell_type": "code",
   "execution_count": null,
   "metadata": {},
   "outputs": [],
   "source": []
  }
 ],
 "metadata": {
  "instance_type": "ml.t3.medium",
  "kernelspec": {
   "display_name": "Python 3 (Data Science)",
   "language": "python",
   "name": "python3__SAGEMAKER_INTERNAL__arn:aws:sagemaker:eu-central-1:936697816551:image/datascience-1.0"
  },
  "language_info": {
   "codemirror_mode": {
    "name": "ipython",
    "version": 3
   },
   "file_extension": ".py",
   "mimetype": "text/x-python",
   "name": "python",
   "nbconvert_exporter": "python",
   "pygments_lexer": "ipython3",
   "version": "3.7.10"
  }
 },
 "nbformat": 4,
 "nbformat_minor": 4
}
