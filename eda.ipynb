{
 "cells": [
  {
   "cell_type": "markdown",
   "metadata": {},
   "source": [
    "## General Exploratory Data Analysi"
   ]
  },
  {
   "cell_type": "markdown",
   "metadata": {},
   "source": [
    "## General Exploratory Data Analysi"
   ]
  },
  {
   "cell_type": "code",
   "execution_count": 2,
   "metadata": {},
   "outputs": [],
   "source": [
    "import pandas as pd\n",
    "import numpy as np\n",
    "import matplotlib.pyplot as plt\n",
    "import math\n",
    "import os.path\n",
    "from datetime import datetime\n",
    "from datetime import date\n",
    "from dateutil import parser\n",
    "#import pickle\n",
    "#import asyncio\n",
    "from datetime import timedelta\n",
    "import dateutil.parser\n",
    "import imp\n",
    "import json\n",
    "import statistics\n",
    "#import random\n",
    "\n",
    "#from binance.client import Client\n",
    "\n",
    "#import api\n",
    "#import get_uptodate_binance_data\n",
    "#import generate_random_file\n",
    "#import track_pnl"
   ]
  },
  {
   "cell_type": "code",
   "execution_count": 4,
   "metadata": {},
   "outputs": [
    {
     "name": "stdout",
     "output_type": "stream",
     "text": [
      "CPU times: user 38.9 ms, sys: 15.6 ms, total: 54.4 ms\n",
      "Wall time: 170 ms\n"
     ]
    }
   ],
   "source": [
    "%%time\n",
    "\n",
    "filename = 'BTCUSDT-1h-binance.csv'\n",
    "timeframe = '1h'\n",
    "OHLC_directory = '/root/OResearch/Data/Binance_OHLC/'\n",
    "complete_file_path = OHLC_directory + filename\n",
    "df = pd.read_csv(complete_file_path)"
   ]
  },
  {
   "cell_type": "code",
   "execution_count": 5,
   "metadata": {},
   "outputs": [
    {
     "data": {
      "text/html": [
       "<div>\n",
       "<style scoped>\n",
       "    .dataframe tbody tr th:only-of-type {\n",
       "        vertical-align: middle;\n",
       "    }\n",
       "\n",
       "    .dataframe tbody tr th {\n",
       "        vertical-align: top;\n",
       "    }\n",
       "\n",
       "    .dataframe thead th {\n",
       "        text-align: right;\n",
       "    }\n",
       "</style>\n",
       "<table border=\"1\" class=\"dataframe\">\n",
       "  <thead>\n",
       "    <tr style=\"text-align: right;\">\n",
       "      <th></th>\n",
       "      <th>Unnamed: 0</th>\n",
       "      <th>timestamp</th>\n",
       "      <th>open</th>\n",
       "      <th>high</th>\n",
       "      <th>low</th>\n",
       "      <th>close</th>\n",
       "      <th>volume</th>\n",
       "      <th>time_diff_in_days</th>\n",
       "      <th>time_diff_in_min</th>\n",
       "    </tr>\n",
       "  </thead>\n",
       "  <tbody>\n",
       "    <tr>\n",
       "      <th>0</th>\n",
       "      <td>0</td>\n",
       "      <td>2017-08-17 04:00:00.000</td>\n",
       "      <td>4261.48</td>\n",
       "      <td>4313.62</td>\n",
       "      <td>4261.32</td>\n",
       "      <td>4308.83</td>\n",
       "      <td>47.181009</td>\n",
       "      <td>NaN</td>\n",
       "      <td>NaN</td>\n",
       "    </tr>\n",
       "    <tr>\n",
       "      <th>1</th>\n",
       "      <td>1</td>\n",
       "      <td>2017-08-17 05:00:00.000</td>\n",
       "      <td>4308.83</td>\n",
       "      <td>4328.69</td>\n",
       "      <td>4291.37</td>\n",
       "      <td>4315.32</td>\n",
       "      <td>23.234916</td>\n",
       "      <td>0.0</td>\n",
       "      <td>60.0</td>\n",
       "    </tr>\n",
       "    <tr>\n",
       "      <th>2</th>\n",
       "      <td>2</td>\n",
       "      <td>2017-08-17 06:00:00.000</td>\n",
       "      <td>4330.29</td>\n",
       "      <td>4345.45</td>\n",
       "      <td>4309.37</td>\n",
       "      <td>4324.35</td>\n",
       "      <td>7.229691</td>\n",
       "      <td>0.0</td>\n",
       "      <td>60.0</td>\n",
       "    </tr>\n",
       "    <tr>\n",
       "      <th>3</th>\n",
       "      <td>3</td>\n",
       "      <td>2017-08-17 07:00:00.000</td>\n",
       "      <td>4316.62</td>\n",
       "      <td>4349.99</td>\n",
       "      <td>4287.41</td>\n",
       "      <td>4349.99</td>\n",
       "      <td>4.443249</td>\n",
       "      <td>0.0</td>\n",
       "      <td>60.0</td>\n",
       "    </tr>\n",
       "    <tr>\n",
       "      <th>4</th>\n",
       "      <td>4</td>\n",
       "      <td>2017-08-17 08:00:00.000</td>\n",
       "      <td>4333.32</td>\n",
       "      <td>4377.85</td>\n",
       "      <td>4333.32</td>\n",
       "      <td>4360.69</td>\n",
       "      <td>0.972807</td>\n",
       "      <td>0.0</td>\n",
       "      <td>60.0</td>\n",
       "    </tr>\n",
       "    <tr>\n",
       "      <th>...</th>\n",
       "      <td>...</td>\n",
       "      <td>...</td>\n",
       "      <td>...</td>\n",
       "      <td>...</td>\n",
       "      <td>...</td>\n",
       "      <td>...</td>\n",
       "      <td>...</td>\n",
       "      <td>...</td>\n",
       "      <td>...</td>\n",
       "    </tr>\n",
       "    <tr>\n",
       "      <th>34576</th>\n",
       "      <td>34576</td>\n",
       "      <td>2021-08-01 20:00:00</td>\n",
       "      <td>41263.34</td>\n",
       "      <td>41500.00</td>\n",
       "      <td>41106.00</td>\n",
       "      <td>41258.65</td>\n",
       "      <td>2076.843599</td>\n",
       "      <td>0.0</td>\n",
       "      <td>60.0</td>\n",
       "    </tr>\n",
       "    <tr>\n",
       "      <th>34577</th>\n",
       "      <td>34577</td>\n",
       "      <td>2021-08-01 21:00:00</td>\n",
       "      <td>41258.65</td>\n",
       "      <td>41314.14</td>\n",
       "      <td>40926.09</td>\n",
       "      <td>41068.21</td>\n",
       "      <td>1139.681274</td>\n",
       "      <td>0.0</td>\n",
       "      <td>60.0</td>\n",
       "    </tr>\n",
       "    <tr>\n",
       "      <th>34578</th>\n",
       "      <td>34578</td>\n",
       "      <td>2021-08-01 22:00:00</td>\n",
       "      <td>41068.21</td>\n",
       "      <td>41192.60</td>\n",
       "      <td>40000.00</td>\n",
       "      <td>40268.63</td>\n",
       "      <td>4849.500775</td>\n",
       "      <td>0.0</td>\n",
       "      <td>60.0</td>\n",
       "    </tr>\n",
       "    <tr>\n",
       "      <th>34579</th>\n",
       "      <td>34579</td>\n",
       "      <td>2021-08-01 23:00:00</td>\n",
       "      <td>40273.36</td>\n",
       "      <td>40437.51</td>\n",
       "      <td>39422.01</td>\n",
       "      <td>39845.44</td>\n",
       "      <td>5041.730461</td>\n",
       "      <td>0.0</td>\n",
       "      <td>60.0</td>\n",
       "    </tr>\n",
       "    <tr>\n",
       "      <th>34580</th>\n",
       "      <td>34580</td>\n",
       "      <td>2021-08-02 00:00:00</td>\n",
       "      <td>39850.27</td>\n",
       "      <td>40099.36</td>\n",
       "      <td>39450.00</td>\n",
       "      <td>39518.73</td>\n",
       "      <td>2764.581547</td>\n",
       "      <td>0.0</td>\n",
       "      <td>60.0</td>\n",
       "    </tr>\n",
       "  </tbody>\n",
       "</table>\n",
       "<p>34581 rows × 9 columns</p>\n",
       "</div>"
      ],
      "text/plain": [
       "       Unnamed: 0                timestamp      open      high       low  \\\n",
       "0               0  2017-08-17 04:00:00.000   4261.48   4313.62   4261.32   \n",
       "1               1  2017-08-17 05:00:00.000   4308.83   4328.69   4291.37   \n",
       "2               2  2017-08-17 06:00:00.000   4330.29   4345.45   4309.37   \n",
       "3               3  2017-08-17 07:00:00.000   4316.62   4349.99   4287.41   \n",
       "4               4  2017-08-17 08:00:00.000   4333.32   4377.85   4333.32   \n",
       "...           ...                      ...       ...       ...       ...   \n",
       "34576       34576      2021-08-01 20:00:00  41263.34  41500.00  41106.00   \n",
       "34577       34577      2021-08-01 21:00:00  41258.65  41314.14  40926.09   \n",
       "34578       34578      2021-08-01 22:00:00  41068.21  41192.60  40000.00   \n",
       "34579       34579      2021-08-01 23:00:00  40273.36  40437.51  39422.01   \n",
       "34580       34580      2021-08-02 00:00:00  39850.27  40099.36  39450.00   \n",
       "\n",
       "          close       volume  time_diff_in_days  time_diff_in_min  \n",
       "0       4308.83    47.181009                NaN               NaN  \n",
       "1       4315.32    23.234916                0.0              60.0  \n",
       "2       4324.35     7.229691                0.0              60.0  \n",
       "3       4349.99     4.443249                0.0              60.0  \n",
       "4       4360.69     0.972807                0.0              60.0  \n",
       "...         ...          ...                ...               ...  \n",
       "34576  41258.65  2076.843599                0.0              60.0  \n",
       "34577  41068.21  1139.681274                0.0              60.0  \n",
       "34578  40268.63  4849.500775                0.0              60.0  \n",
       "34579  39845.44  5041.730461                0.0              60.0  \n",
       "34580  39518.73  2764.581547                0.0              60.0  \n",
       "\n",
       "[34581 rows x 9 columns]"
      ]
     },
     "execution_count": 5,
     "metadata": {},
     "output_type": "execute_result"
    }
   ],
   "source": [
    "df"
   ]
  },
  {
   "cell_type": "markdown",
   "metadata": {},
   "source": [
    "Deleting the 'Unnamed: 0' column"
   ]
  },
  {
   "cell_type": "code",
   "execution_count": 59,
   "metadata": {},
   "outputs": [],
   "source": [
    "df = df.drop(columns=['Unnamed: 0'], axis=0)"
   ]
  },
  {
   "cell_type": "markdown",
   "metadata": {},
   "source": [
    "Adding log-return"
   ]
  },
  {
   "cell_type": "code",
   "execution_count": 22,
   "metadata": {},
   "outputs": [],
   "source": [
    "df['closeprice_log_return']=np.log(df.close) - np.log(df.close.shift(1))"
   ]
  },
  {
   "cell_type": "code",
   "execution_count": 97,
   "metadata": {},
   "outputs": [
    {
     "data": {
      "text/html": [
       "<div>\n",
       "<style scoped>\n",
       "    .dataframe tbody tr th:only-of-type {\n",
       "        vertical-align: middle;\n",
       "    }\n",
       "\n",
       "    .dataframe tbody tr th {\n",
       "        vertical-align: top;\n",
       "    }\n",
       "\n",
       "    .dataframe thead th {\n",
       "        text-align: right;\n",
       "    }\n",
       "</style>\n",
       "<table border=\"1\" class=\"dataframe\">\n",
       "  <thead>\n",
       "    <tr style=\"text-align: right;\">\n",
       "      <th></th>\n",
       "      <th>timestamp</th>\n",
       "      <th>open</th>\n",
       "      <th>high</th>\n",
       "      <th>low</th>\n",
       "      <th>close</th>\n",
       "      <th>volume</th>\n",
       "      <th>time_diff_in_days</th>\n",
       "      <th>time_diff_in_min</th>\n",
       "      <th>close_log_return</th>\n",
       "      <th>datetime</th>\n",
       "      <th>day</th>\n",
       "      <th>month</th>\n",
       "      <th>week</th>\n",
       "    </tr>\n",
       "  </thead>\n",
       "  <tbody>\n",
       "    <tr>\n",
       "      <th>0</th>\n",
       "      <td>2017-08-17 04:00:00.000</td>\n",
       "      <td>4261.48</td>\n",
       "      <td>4313.62</td>\n",
       "      <td>4261.32</td>\n",
       "      <td>4308.83</td>\n",
       "      <td>47.181009</td>\n",
       "      <td>NaN</td>\n",
       "      <td>NaN</td>\n",
       "      <td>NaN</td>\n",
       "      <td>2017-08-17 04:00:00</td>\n",
       "      <td>Thursday</td>\n",
       "      <td>August</td>\n",
       "      <td>33</td>\n",
       "    </tr>\n",
       "    <tr>\n",
       "      <th>1</th>\n",
       "      <td>2017-08-17 05:00:00.000</td>\n",
       "      <td>4308.83</td>\n",
       "      <td>4328.69</td>\n",
       "      <td>4291.37</td>\n",
       "      <td>4315.32</td>\n",
       "      <td>23.234916</td>\n",
       "      <td>0.0</td>\n",
       "      <td>60.0</td>\n",
       "      <td>0.001505</td>\n",
       "      <td>2017-08-17 05:00:00</td>\n",
       "      <td>Thursday</td>\n",
       "      <td>August</td>\n",
       "      <td>33</td>\n",
       "    </tr>\n",
       "    <tr>\n",
       "      <th>2</th>\n",
       "      <td>2017-08-17 06:00:00.000</td>\n",
       "      <td>4330.29</td>\n",
       "      <td>4345.45</td>\n",
       "      <td>4309.37</td>\n",
       "      <td>4324.35</td>\n",
       "      <td>7.229691</td>\n",
       "      <td>0.0</td>\n",
       "      <td>60.0</td>\n",
       "      <td>0.002090</td>\n",
       "      <td>2017-08-17 06:00:00</td>\n",
       "      <td>Thursday</td>\n",
       "      <td>August</td>\n",
       "      <td>33</td>\n",
       "    </tr>\n",
       "    <tr>\n",
       "      <th>3</th>\n",
       "      <td>2017-08-17 07:00:00.000</td>\n",
       "      <td>4316.62</td>\n",
       "      <td>4349.99</td>\n",
       "      <td>4287.41</td>\n",
       "      <td>4349.99</td>\n",
       "      <td>4.443249</td>\n",
       "      <td>0.0</td>\n",
       "      <td>60.0</td>\n",
       "      <td>0.005912</td>\n",
       "      <td>2017-08-17 07:00:00</td>\n",
       "      <td>Thursday</td>\n",
       "      <td>August</td>\n",
       "      <td>33</td>\n",
       "    </tr>\n",
       "    <tr>\n",
       "      <th>4</th>\n",
       "      <td>2017-08-17 08:00:00.000</td>\n",
       "      <td>4333.32</td>\n",
       "      <td>4377.85</td>\n",
       "      <td>4333.32</td>\n",
       "      <td>4360.69</td>\n",
       "      <td>0.972807</td>\n",
       "      <td>0.0</td>\n",
       "      <td>60.0</td>\n",
       "      <td>0.002457</td>\n",
       "      <td>2017-08-17 08:00:00</td>\n",
       "      <td>Thursday</td>\n",
       "      <td>August</td>\n",
       "      <td>33</td>\n",
       "    </tr>\n",
       "    <tr>\n",
       "      <th>...</th>\n",
       "      <td>...</td>\n",
       "      <td>...</td>\n",
       "      <td>...</td>\n",
       "      <td>...</td>\n",
       "      <td>...</td>\n",
       "      <td>...</td>\n",
       "      <td>...</td>\n",
       "      <td>...</td>\n",
       "      <td>...</td>\n",
       "      <td>...</td>\n",
       "      <td>...</td>\n",
       "      <td>...</td>\n",
       "      <td>...</td>\n",
       "    </tr>\n",
       "    <tr>\n",
       "      <th>34576</th>\n",
       "      <td>2021-08-01 20:00:00</td>\n",
       "      <td>41263.34</td>\n",
       "      <td>41500.00</td>\n",
       "      <td>41106.00</td>\n",
       "      <td>41258.65</td>\n",
       "      <td>2076.843599</td>\n",
       "      <td>0.0</td>\n",
       "      <td>60.0</td>\n",
       "      <td>-0.000114</td>\n",
       "      <td>2021-08-01 20:00:00</td>\n",
       "      <td>Sunday</td>\n",
       "      <td>August</td>\n",
       "      <td>30</td>\n",
       "    </tr>\n",
       "    <tr>\n",
       "      <th>34577</th>\n",
       "      <td>2021-08-01 21:00:00</td>\n",
       "      <td>41258.65</td>\n",
       "      <td>41314.14</td>\n",
       "      <td>40926.09</td>\n",
       "      <td>41068.21</td>\n",
       "      <td>1139.681274</td>\n",
       "      <td>0.0</td>\n",
       "      <td>60.0</td>\n",
       "      <td>-0.004626</td>\n",
       "      <td>2021-08-01 21:00:00</td>\n",
       "      <td>Sunday</td>\n",
       "      <td>August</td>\n",
       "      <td>30</td>\n",
       "    </tr>\n",
       "    <tr>\n",
       "      <th>34578</th>\n",
       "      <td>2021-08-01 22:00:00</td>\n",
       "      <td>41068.21</td>\n",
       "      <td>41192.60</td>\n",
       "      <td>40000.00</td>\n",
       "      <td>40268.63</td>\n",
       "      <td>4849.500775</td>\n",
       "      <td>0.0</td>\n",
       "      <td>60.0</td>\n",
       "      <td>-0.019662</td>\n",
       "      <td>2021-08-01 22:00:00</td>\n",
       "      <td>Sunday</td>\n",
       "      <td>August</td>\n",
       "      <td>30</td>\n",
       "    </tr>\n",
       "    <tr>\n",
       "      <th>34579</th>\n",
       "      <td>2021-08-01 23:00:00</td>\n",
       "      <td>40273.36</td>\n",
       "      <td>40437.51</td>\n",
       "      <td>39422.01</td>\n",
       "      <td>39845.44</td>\n",
       "      <td>5041.730461</td>\n",
       "      <td>0.0</td>\n",
       "      <td>60.0</td>\n",
       "      <td>-0.010565</td>\n",
       "      <td>2021-08-01 23:00:00</td>\n",
       "      <td>Sunday</td>\n",
       "      <td>August</td>\n",
       "      <td>30</td>\n",
       "    </tr>\n",
       "    <tr>\n",
       "      <th>34580</th>\n",
       "      <td>2021-08-02 00:00:00</td>\n",
       "      <td>39850.27</td>\n",
       "      <td>40099.36</td>\n",
       "      <td>39450.00</td>\n",
       "      <td>39518.73</td>\n",
       "      <td>2764.581547</td>\n",
       "      <td>0.0</td>\n",
       "      <td>60.0</td>\n",
       "      <td>-0.008233</td>\n",
       "      <td>2021-08-02 00:00:00</td>\n",
       "      <td>Monday</td>\n",
       "      <td>August</td>\n",
       "      <td>31</td>\n",
       "    </tr>\n",
       "  </tbody>\n",
       "</table>\n",
       "<p>34581 rows × 13 columns</p>\n",
       "</div>"
      ],
      "text/plain": [
       "                     timestamp      open      high       low     close  \\\n",
       "0      2017-08-17 04:00:00.000   4261.48   4313.62   4261.32   4308.83   \n",
       "1      2017-08-17 05:00:00.000   4308.83   4328.69   4291.37   4315.32   \n",
       "2      2017-08-17 06:00:00.000   4330.29   4345.45   4309.37   4324.35   \n",
       "3      2017-08-17 07:00:00.000   4316.62   4349.99   4287.41   4349.99   \n",
       "4      2017-08-17 08:00:00.000   4333.32   4377.85   4333.32   4360.69   \n",
       "...                        ...       ...       ...       ...       ...   \n",
       "34576      2021-08-01 20:00:00  41263.34  41500.00  41106.00  41258.65   \n",
       "34577      2021-08-01 21:00:00  41258.65  41314.14  40926.09  41068.21   \n",
       "34578      2021-08-01 22:00:00  41068.21  41192.60  40000.00  40268.63   \n",
       "34579      2021-08-01 23:00:00  40273.36  40437.51  39422.01  39845.44   \n",
       "34580      2021-08-02 00:00:00  39850.27  40099.36  39450.00  39518.73   \n",
       "\n",
       "            volume  time_diff_in_days  time_diff_in_min  close_log_return  \\\n",
       "0        47.181009                NaN               NaN               NaN   \n",
       "1        23.234916                0.0              60.0          0.001505   \n",
       "2         7.229691                0.0              60.0          0.002090   \n",
       "3         4.443249                0.0              60.0          0.005912   \n",
       "4         0.972807                0.0              60.0          0.002457   \n",
       "...            ...                ...               ...               ...   \n",
       "34576  2076.843599                0.0              60.0         -0.000114   \n",
       "34577  1139.681274                0.0              60.0         -0.004626   \n",
       "34578  4849.500775                0.0              60.0         -0.019662   \n",
       "34579  5041.730461                0.0              60.0         -0.010565   \n",
       "34580  2764.581547                0.0              60.0         -0.008233   \n",
       "\n",
       "                 datetime       day   month  week  \n",
       "0     2017-08-17 04:00:00  Thursday  August    33  \n",
       "1     2017-08-17 05:00:00  Thursday  August    33  \n",
       "2     2017-08-17 06:00:00  Thursday  August    33  \n",
       "3     2017-08-17 07:00:00  Thursday  August    33  \n",
       "4     2017-08-17 08:00:00  Thursday  August    33  \n",
       "...                   ...       ...     ...   ...  \n",
       "34576 2021-08-01 20:00:00    Sunday  August    30  \n",
       "34577 2021-08-01 21:00:00    Sunday  August    30  \n",
       "34578 2021-08-01 22:00:00    Sunday  August    30  \n",
       "34579 2021-08-01 23:00:00    Sunday  August    30  \n",
       "34580 2021-08-02 00:00:00    Monday  August    31  \n",
       "\n",
       "[34581 rows x 13 columns]"
      ]
     },
     "execution_count": 97,
     "metadata": {},
     "output_type": "execute_result"
    }
   ],
   "source": [
    "df"
   ]
  },
  {
   "cell_type": "code",
   "execution_count": 48,
   "metadata": {},
   "outputs": [
    {
     "data": {
      "text/plain": [
       "pandas.core.series.Series"
      ]
     },
     "execution_count": 48,
     "metadata": {},
     "output_type": "execute_result"
    }
   ],
   "source": [
    "type(df['timestamp'])"
   ]
  },
  {
   "cell_type": "code",
   "execution_count": 54,
   "metadata": {},
   "outputs": [],
   "source": [
    "df['datetime'] = pd.to_datetime(df['timestamp'], errors='coerce')"
   ]
  },
  {
   "cell_type": "code",
   "execution_count": 61,
   "metadata": {},
   "outputs": [],
   "source": [
    "df['day'] = df['datetime'].dt.day_name()"
   ]
  },
  {
   "cell_type": "code",
   "execution_count": 82,
   "metadata": {},
   "outputs": [],
   "source": [
    "df['week'] = df['datetime'].dt.week"
   ]
  },
  {
   "cell_type": "code",
   "execution_count": 74,
   "metadata": {},
   "outputs": [],
   "source": [
    "df['month'] = df['datetime'].dt.month_name()"
   ]
  },
  {
   "cell_type": "markdown",
   "metadata": {},
   "source": [
    "# We plot the average and median log_return by day, by week, and by month."
   ]
  },
  {
   "cell_type": "markdown",
   "metadata": {},
   "source": [
    "# by day"
   ]
  },
  {
   "cell_type": "code",
   "execution_count": 71,
   "metadata": {},
   "outputs": [
    {
     "data": {
      "text/plain": [
       "<matplotlib.axes._subplots.AxesSubplot at 0x7f64d55daa50>"
      ]
     },
     "execution_count": 71,
     "metadata": {},
     "output_type": "execute_result"
    },
    {
     "data": {
      "image/png": "[encoded data removed]",
      "text/plain": [
       "<Figure size 432x288 with 1 Axes>"
      ]
     },
     "metadata": {
      "needs_background": "light"
     },
     "output_type": "display_data"
    }
   ],
   "source": [
    "df[['day', 'close_log_return']].groupby('day').mean().plot(kind='bar', legend=None)"
   ]
  },
  {
   "cell_type": "code",
   "execution_count": 72,
   "metadata": {},
   "outputs": [
    {
     "data": {
      "text/plain": [
       "<matplotlib.axes._subplots.AxesSubplot at 0x7f64d5575450>"
      ]
     },
     "execution_count": 72,
     "metadata": {},
     "output_type": "execute_result"
    },
    {
     "data": {
      "image/png": "[encoded data removed]",
      "text/plain": [
       "<Figure size 432x288 with 1 Axes>"
      ]
     },
     "metadata": {
      "needs_background": "light"
     },
     "output_type": "display_data"
    }
   ],
   "source": [
    "df[['day', 'close_log_return']].groupby('day').median().plot(kind='bar', legend=None)"
   ]
  },
  {
   "cell_type": "markdown",
   "metadata": {},
   "source": [
    "# by week"
   ]
  },
  {
   "cell_type": "code",
   "execution_count": 84,
   "metadata": {},
   "outputs": [
    {
     "data": {
      "text/plain": [
       "<matplotlib.axes._subplots.AxesSubplot at 0x7f64d5672190>"
      ]
     },
     "execution_count": 84,
     "metadata": {},
     "output_type": "execute_result"
    },
    {
     "data": {
      "image/png": "[encoded data removed]",
      "text/plain": [
       "<Figure size 432x288 with 1 Axes>"
      ]
     },
     "metadata": {
      "needs_background": "light"
     },
     "output_type": "display_data"
    }
   ],
   "source": [
    "df[['week', 'close_log_return']].groupby('week').mean().plot(kind='bar', legend=None)"
   ]
  },
  {
   "cell_type": "markdown",
   "metadata": {},
   "source": [
    "We can notice quite a pattern on the 53th calendar week. Explain more. (cause 53th week only exists in 2020 so it's biased: not big enough sample"
   ]
  },
  {
   "cell_type": "code",
   "execution_count": 85,
   "metadata": {},
   "outputs": [
    {
     "data": {
      "text/plain": [
       "<matplotlib.axes._subplots.AxesSubplot at 0x7f64d51aa350>"
      ]
     },
     "execution_count": 85,
     "metadata": {},
     "output_type": "execute_result"
    },
    {
     "data": {
      "image/png": "[encoded data removed]",
      "text/plain": [
       "<Figure size 432x288 with 1 Axes>"
      ]
     },
     "metadata": {
      "needs_background": "light"
     },
     "output_type": "display_data"
    }
   ],
   "source": [
    "df[['week', 'close_log_return']].groupby('week').median().plot(kind='bar', legend=None)"
   ]
  },
  {
   "cell_type": "markdown",
   "metadata": {},
   "source": [
    "Let's now look at extreme value or outliers among those"
   ]
  },
  {
   "cell_type": "code",
   "execution_count": 86,
   "metadata": {},
   "outputs": [
    {
     "data": {
      "text/html": [
       "<div>\n",
       "<style scoped>\n",
       "    .dataframe tbody tr th:only-of-type {\n",
       "        vertical-align: middle;\n",
       "    }\n",
       "\n",
       "    .dataframe tbody tr th {\n",
       "        vertical-align: top;\n",
       "    }\n",
       "\n",
       "    .dataframe thead th {\n",
       "        text-align: right;\n",
       "    }\n",
       "</style>\n",
       "<table border=\"1\" class=\"dataframe\">\n",
       "  <thead>\n",
       "    <tr style=\"text-align: right;\">\n",
       "      <th></th>\n",
       "      <th>close_log_return</th>\n",
       "    </tr>\n",
       "    <tr>\n",
       "      <th>week</th>\n",
       "      <th></th>\n",
       "    </tr>\n",
       "  </thead>\n",
       "  <tbody>\n",
       "    <tr>\n",
       "      <th>1</th>\n",
       "      <td>0.000525</td>\n",
       "    </tr>\n",
       "    <tr>\n",
       "      <th>2</th>\n",
       "      <td>-0.000409</td>\n",
       "    </tr>\n",
       "    <tr>\n",
       "      <th>3</th>\n",
       "      <td>-0.000271</td>\n",
       "    </tr>\n",
       "    <tr>\n",
       "      <th>4</th>\n",
       "      <td>0.000072</td>\n",
       "    </tr>\n",
       "    <tr>\n",
       "      <th>5</th>\n",
       "      <td>-0.000238</td>\n",
       "    </tr>\n",
       "    <tr>\n",
       "      <th>6</th>\n",
       "      <td>0.000559</td>\n",
       "    </tr>\n",
       "    <tr>\n",
       "      <th>7</th>\n",
       "      <td>0.000585</td>\n",
       "    </tr>\n",
       "    <tr>\n",
       "      <th>8</th>\n",
       "      <td>-0.000446</td>\n",
       "    </tr>\n",
       "    <tr>\n",
       "      <th>9</th>\n",
       "      <td>0.000252</td>\n",
       "    </tr>\n",
       "    <tr>\n",
       "      <th>10</th>\n",
       "      <td>-0.000112</td>\n",
       "    </tr>\n",
       "    <tr>\n",
       "      <th>11</th>\n",
       "      <td>-0.000853</td>\n",
       "    </tr>\n",
       "    <tr>\n",
       "      <th>12</th>\n",
       "      <td>0.000134</td>\n",
       "    </tr>\n",
       "    <tr>\n",
       "      <th>13</th>\n",
       "      <td>-0.000203</td>\n",
       "    </tr>\n",
       "    <tr>\n",
       "      <th>14</th>\n",
       "      <td>0.000643</td>\n",
       "    </tr>\n",
       "    <tr>\n",
       "      <th>15</th>\n",
       "      <td>0.000178</td>\n",
       "    </tr>\n",
       "    <tr>\n",
       "      <th>16</th>\n",
       "      <td>-0.000044</td>\n",
       "    </tr>\n",
       "    <tr>\n",
       "      <th>17</th>\n",
       "      <td>0.000446</td>\n",
       "    </tr>\n",
       "    <tr>\n",
       "      <th>18</th>\n",
       "      <td>0.000422</td>\n",
       "    </tr>\n",
       "    <tr>\n",
       "      <th>19</th>\n",
       "      <td>-0.000246</td>\n",
       "    </tr>\n",
       "    <tr>\n",
       "      <th>20</th>\n",
       "      <td>-0.000075</td>\n",
       "    </tr>\n",
       "    <tr>\n",
       "      <th>21</th>\n",
       "      <td>-0.000254</td>\n",
       "    </tr>\n",
       "    <tr>\n",
       "      <th>22</th>\n",
       "      <td>0.000219</td>\n",
       "    </tr>\n",
       "    <tr>\n",
       "      <th>23</th>\n",
       "      <td>-0.000221</td>\n",
       "    </tr>\n",
       "    <tr>\n",
       "      <th>24</th>\n",
       "      <td>-0.000032</td>\n",
       "    </tr>\n",
       "    <tr>\n",
       "      <th>25</th>\n",
       "      <td>0.000174</td>\n",
       "    </tr>\n",
       "    <tr>\n",
       "      <th>26</th>\n",
       "      <td>0.000042</td>\n",
       "    </tr>\n",
       "    <tr>\n",
       "      <th>27</th>\n",
       "      <td>0.000104</td>\n",
       "    </tr>\n",
       "    <tr>\n",
       "      <th>28</th>\n",
       "      <td>-0.000326</td>\n",
       "    </tr>\n",
       "    <tr>\n",
       "      <th>29</th>\n",
       "      <td>0.000430</td>\n",
       "    </tr>\n",
       "    <tr>\n",
       "      <th>30</th>\n",
       "      <td>0.000290</td>\n",
       "    </tr>\n",
       "    <tr>\n",
       "      <th>31</th>\n",
       "      <td>0.000159</td>\n",
       "    </tr>\n",
       "    <tr>\n",
       "      <th>32</th>\n",
       "      <td>0.000003</td>\n",
       "    </tr>\n",
       "    <tr>\n",
       "      <th>33</th>\n",
       "      <td>-0.000206</td>\n",
       "    </tr>\n",
       "    <tr>\n",
       "      <th>34</th>\n",
       "      <td>0.000072</td>\n",
       "    </tr>\n",
       "    <tr>\n",
       "      <th>35</th>\n",
       "      <td>0.000141</td>\n",
       "    </tr>\n",
       "    <tr>\n",
       "      <th>36</th>\n",
       "      <td>-0.000467</td>\n",
       "    </tr>\n",
       "    <tr>\n",
       "      <th>37</th>\n",
       "      <td>-0.000105</td>\n",
       "    </tr>\n",
       "    <tr>\n",
       "      <th>38</th>\n",
       "      <td>0.000072</td>\n",
       "    </tr>\n",
       "    <tr>\n",
       "      <th>39</th>\n",
       "      <td>-0.000100</td>\n",
       "    </tr>\n",
       "    <tr>\n",
       "      <th>40</th>\n",
       "      <td>0.000033</td>\n",
       "    </tr>\n",
       "    <tr>\n",
       "      <th>41</th>\n",
       "      <td>0.000418</td>\n",
       "    </tr>\n",
       "    <tr>\n",
       "      <th>42</th>\n",
       "      <td>0.000128</td>\n",
       "    </tr>\n",
       "    <tr>\n",
       "      <th>43</th>\n",
       "      <td>0.000436</td>\n",
       "    </tr>\n",
       "    <tr>\n",
       "      <th>44</th>\n",
       "      <td>0.000287</td>\n",
       "    </tr>\n",
       "    <tr>\n",
       "      <th>45</th>\n",
       "      <td>-0.000208</td>\n",
       "    </tr>\n",
       "    <tr>\n",
       "      <th>46</th>\n",
       "      <td>0.000247</td>\n",
       "    </tr>\n",
       "    <tr>\n",
       "      <th>47</th>\n",
       "      <td>-0.000393</td>\n",
       "    </tr>\n",
       "    <tr>\n",
       "      <th>48</th>\n",
       "      <td>0.000411</td>\n",
       "    </tr>\n",
       "    <tr>\n",
       "      <th>49</th>\n",
       "      <td>0.000309</td>\n",
       "    </tr>\n",
       "    <tr>\n",
       "      <th>50</th>\n",
       "      <td>0.000118</td>\n",
       "    </tr>\n",
       "    <tr>\n",
       "      <th>51</th>\n",
       "      <td>0.000173</td>\n",
       "    </tr>\n",
       "    <tr>\n",
       "      <th>52</th>\n",
       "      <td>0.000122</td>\n",
       "    </tr>\n",
       "    <tr>\n",
       "      <th>53</th>\n",
       "      <td>0.001355</td>\n",
       "    </tr>\n",
       "  </tbody>\n",
       "</table>\n",
       "</div>"
      ],
      "text/plain": [
       "      close_log_return\n",
       "week                  \n",
       "1             0.000525\n",
       "2            -0.000409\n",
       "3            -0.000271\n",
       "4             0.000072\n",
       "5            -0.000238\n",
       "6             0.000559\n",
       "7             0.000585\n",
       "8            -0.000446\n",
       "9             0.000252\n",
       "10           -0.000112\n",
       "11           -0.000853\n",
       "12            0.000134\n",
       "13           -0.000203\n",
       "14            0.000643\n",
       "15            0.000178\n",
       "16           -0.000044\n",
       "17            0.000446\n",
       "18            0.000422\n",
       "19           -0.000246\n",
       "20           -0.000075\n",
       "21           -0.000254\n",
       "22            0.000219\n",
       "23           -0.000221\n",
       "24           -0.000032\n",
       "25            0.000174\n",
       "26            0.000042\n",
       "27            0.000104\n",
       "28           -0.000326\n",
       "29            0.000430\n",
       "30            0.000290\n",
       "31            0.000159\n",
       "32            0.000003\n",
       "33           -0.000206\n",
       "34            0.000072\n",
       "35            0.000141\n",
       "36           -0.000467\n",
       "37           -0.000105\n",
       "38            0.000072\n",
       "39           -0.000100\n",
       "40            0.000033\n",
       "41            0.000418\n",
       "42            0.000128\n",
       "43            0.000436\n",
       "44            0.000287\n",
       "45           -0.000208\n",
       "46            0.000247\n",
       "47           -0.000393\n",
       "48            0.000411\n",
       "49            0.000309\n",
       "50            0.000118\n",
       "51            0.000173\n",
       "52            0.000122\n",
       "53            0.001355"
      ]
     },
     "execution_count": 86,
     "metadata": {},
     "output_type": "execute_result"
    }
   ],
   "source": [
    "df[['week', 'close_log_return']].groupby('week').mean()"
   ]
  },
  {
   "cell_type": "code",
   "execution_count": 90,
   "metadata": {},
   "outputs": [
    {
     "data": {
      "image/png": "[encoded data removed]",
      "text/plain": [
       "<Figure size 432x288 with 1 Axes>"
      ]
     },
     "metadata": {
      "needs_background": "light"
     },
     "output_type": "display_data"
    }
   ],
   "source": [
    "fig, ax = plt.subplots()\n",
    "ax.hist(df.close_log_return)\n",
    "plt.title('Histogram of the close_log_return')\n",
    "plt.show()"
   ]
  },
  {
   "cell_type": "markdown",
   "metadata": {},
   "source": [
    "Research for Extremal log-return"
   ]
  },
  {
   "cell_type": "code",
   "execution_count": null,
   "metadata": {},
   "outputs": [],
   "source": []
  },
  {
   "cell_type": "code",
   "execution_count": null,
   "metadata": {},
   "outputs": [],
   "source": []
  },
  {
   "cell_type": "markdown",
   "metadata": {},
   "source": [
    "# by month"
   ]
  },
  {
   "cell_type": "code",
   "execution_count": 77,
   "metadata": {},
   "outputs": [
    {
     "data": {
      "text/plain": [
       "<matplotlib.axes._subplots.AxesSubplot at 0x7f64e12711d0>"
      ]
     },
     "execution_count": 77,
     "metadata": {},
     "output_type": "execute_result"
    },
    {
     "data": {
      "image/png": "[encoded data removed]",
      "text/plain": [
       "<Figure size 432x288 with 1 Axes>"
      ]
     },
     "metadata": {
      "needs_background": "light"
     },
     "output_type": "display_data"
    }
   ],
   "source": [
    "df[['month', 'close_log_return']].groupby('month').mean().plot(kind='bar', legend=None)"
   ]
  },
  {
   "cell_type": "code",
   "execution_count": 79,
   "metadata": {},
   "outputs": [
    {
     "data": {
      "text/plain": [
       "<matplotlib.axes._subplots.AxesSubplot at 0x7f64d57396d0>"
      ]
     },
     "execution_count": 79,
     "metadata": {},
     "output_type": "execute_result"
    },
    {
     "data": {
      "image/png": "[encoded data removed]",
      "text/plain": [
       "<Figure size 432x288 with 1 Axes>"
      ]
     },
     "metadata": {
      "needs_background": "light"
     },
     "output_type": "display_data"
    }
   ],
   "source": [
    "df[['month', 'close_log_return']].groupby('month').median().plot(kind='bar', legend=None)"
   ]
  },
  {
   "cell_type": "code",
   "execution_count": null,
   "metadata": {},
   "outputs": [],
   "source": []
  },
  {
   "cell_type": "markdown",
   "metadata": {},
   "source": [
    "# Analysing log-return by day, month, hour, etc"
   ]
  },
  {
   "cell_type": "code",
   "execution_count": null,
   "metadata": {},
   "outputs": [],
   "source": []
  },
  {
   "cell_type": "code",
   "execution_count": null,
   "metadata": {},
   "outputs": [],
   "source": []
  }
 ],
 "metadata": {
  "instance_type": "ml.t3.medium",
  "kernelspec": {
   "display_name": "Python 3 (Data Science)",
   "language": "python",
   "name": "python3__SAGEMAKER_INTERNAL__arn:aws:sagemaker:eu-central-1:936697816551:image/datascience-1.0"
  },
  "language_info": {
   "codemirror_mode": {
    "name": "ipython",
    "version": 3
   },
   "file_extension": ".py",
   "mimetype": "text/x-python",
   "name": "python",
   "nbconvert_exporter": "python",
   "pygments_lexer": "ipython3",
   "version": "3.7.10"
  }
 },
 "nbformat": 4,
 "nbformat_minor": 4
}