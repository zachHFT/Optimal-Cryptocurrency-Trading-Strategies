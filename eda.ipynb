{
 "cells": [
  {
   "cell_type": "markdown",
   "metadata": {},
   "source": [
    "## General Exploratory Data Analysi"
   ]
  },
  {
   "cell_type": "markdown",
   "metadata": {},
   "source": [
    "## General Exploratory Data Analysi"
   ]
  },
  {
   "cell_type": "code",
   "execution_count": 2,
   "metadata": {},
   "outputs": [],
   "source": [
    "import pandas as pd\n",
    "import numpy as np\n",
    "import matplotlib.pyplot as plt\n",
    "import math\n",
    "import os.path\n",
    "from datetime import datetime\n",
    "from datetime import date\n",
    "from dateutil import parser\n",
    "#import pickle\n",
    "#import asyncio\n",
    "from datetime import timedelta\n",
    "import dateutil.parser\n",
    "import imp\n",
    "import json\n",
    "import statistics\n",
    "#import random\n",
    "\n",
    "#from binance.client import Client\n",
    "\n",
    "#import api\n",
    "#import get_uptodate_binance_data\n",
    "#import generate_random_file\n",
    "#import track_pnl"
   ]
  },
  {
   "cell_type": "code",
   "execution_count": 128,
   "metadata": {},
   "outputs": [
    {
     "name": "stdout",
     "output_type": "stream",
     "text": [
      "CPU times: user 49.5 ms, sys: 0 ns, total: 49.5 ms\n",
      "Wall time: 70.3 ms\n"
     ]
    }
   ],
   "source": [
    "%%time\n",
    "\n",
    "filename = 'BTCUSDT-1h-binance.csv'\n",
    "timeframe = '1h'\n",
    "OHLC_directory = '/root/OResearch/Data/Binance_OHLC/'\n",
    "complete_file_path = OHLC_directory + filename\n",
    "df = pd.read_csv(complete_file_path)"
   ]
  },
  {
   "cell_type": "code",
   "execution_count": 129,
   "metadata": {},
   "outputs": [],
   "source": [
    "df = df.drop(columns=['Unnamed: 0'], axis=0)"
   ]
  },
  {
   "cell_type": "markdown",
   "metadata": {},
   "source": [
    "Adding log-return"
   ]
  },
  {
   "cell_type": "code",
   "execution_count": 130,
   "metadata": {},
   "outputs": [],
   "source": [
    "df['closeprice_log_return']=np.log(df.close) - np.log(df.close.shift(1))\n",
    "df = df.iloc[1: , :] #Remove first row which contains NA due to log-return"
   ]
  },
  {
   "cell_type": "code",
   "execution_count": 132,
   "metadata": {},
   "outputs": [],
   "source": [
    "df['datetime'] = pd.to_datetime(df['timestamp'], errors='coerce')\n",
    "df['day'] = df['datetime'].dt.day_name()\n",
    "df['week'] = df['datetime'].dt.week\n",
    "df['month'] = df['datetime'].dt.month_name()"
   ]
  },
  {
   "cell_type": "code",
   "execution_count": 141,
   "metadata": {},
   "outputs": [
    {
     "data": {
      "text/html": [
       "<div>\n",
       "<style scoped>\n",
       "    .dataframe tbody tr th:only-of-type {\n",
       "        vertical-align: middle;\n",
       "    }\n",
       "\n",
       "    .dataframe tbody tr th {\n",
       "        vertical-align: top;\n",
       "    }\n",
       "\n",
       "    .dataframe thead th {\n",
       "        text-align: right;\n",
       "    }\n",
       "</style>\n",
       "<table border=\"1\" class=\"dataframe\">\n",
       "  <thead>\n",
       "    <tr style=\"text-align: right;\">\n",
       "      <th></th>\n",
       "      <th>timestamp</th>\n",
       "      <th>open</th>\n",
       "      <th>high</th>\n",
       "      <th>low</th>\n",
       "      <th>close</th>\n",
       "      <th>volume</th>\n",
       "      <th>time_diff_in_days</th>\n",
       "      <th>time_diff_in_min</th>\n",
       "      <th>closeprice_log_return</th>\n",
       "      <th>datetime</th>\n",
       "      <th>day</th>\n",
       "      <th>week</th>\n",
       "      <th>month</th>\n",
       "    </tr>\n",
       "  </thead>\n",
       "  <tbody>\n",
       "    <tr>\n",
       "      <th>1</th>\n",
       "      <td>2017-08-17 05:00:00.000</td>\n",
       "      <td>4308.83</td>\n",
       "      <td>4328.69</td>\n",
       "      <td>4291.37</td>\n",
       "      <td>4315.32</td>\n",
       "      <td>23.234916</td>\n",
       "      <td>0.0</td>\n",
       "      <td>60.0</td>\n",
       "      <td>0.001505</td>\n",
       "      <td>2017-08-17 05:00:00</td>\n",
       "      <td>Thursday</td>\n",
       "      <td>33</td>\n",
       "      <td>August</td>\n",
       "    </tr>\n",
       "    <tr>\n",
       "      <th>2</th>\n",
       "      <td>2017-08-17 06:00:00.000</td>\n",
       "      <td>4330.29</td>\n",
       "      <td>4345.45</td>\n",
       "      <td>4309.37</td>\n",
       "      <td>4324.35</td>\n",
       "      <td>7.229691</td>\n",
       "      <td>0.0</td>\n",
       "      <td>60.0</td>\n",
       "      <td>0.002090</td>\n",
       "      <td>2017-08-17 06:00:00</td>\n",
       "      <td>Thursday</td>\n",
       "      <td>33</td>\n",
       "      <td>August</td>\n",
       "    </tr>\n",
       "    <tr>\n",
       "      <th>3</th>\n",
       "      <td>2017-08-17 07:00:00.000</td>\n",
       "      <td>4316.62</td>\n",
       "      <td>4349.99</td>\n",
       "      <td>4287.41</td>\n",
       "      <td>4349.99</td>\n",
       "      <td>4.443249</td>\n",
       "      <td>0.0</td>\n",
       "      <td>60.0</td>\n",
       "      <td>0.005912</td>\n",
       "      <td>2017-08-17 07:00:00</td>\n",
       "      <td>Thursday</td>\n",
       "      <td>33</td>\n",
       "      <td>August</td>\n",
       "    </tr>\n",
       "    <tr>\n",
       "      <th>4</th>\n",
       "      <td>2017-08-17 08:00:00.000</td>\n",
       "      <td>4333.32</td>\n",
       "      <td>4377.85</td>\n",
       "      <td>4333.32</td>\n",
       "      <td>4360.69</td>\n",
       "      <td>0.972807</td>\n",
       "      <td>0.0</td>\n",
       "      <td>60.0</td>\n",
       "      <td>0.002457</td>\n",
       "      <td>2017-08-17 08:00:00</td>\n",
       "      <td>Thursday</td>\n",
       "      <td>33</td>\n",
       "      <td>August</td>\n",
       "    </tr>\n",
       "    <tr>\n",
       "      <th>5</th>\n",
       "      <td>2017-08-17 09:00:00.000</td>\n",
       "      <td>4360.00</td>\n",
       "      <td>4445.78</td>\n",
       "      <td>4360.00</td>\n",
       "      <td>4444.00</td>\n",
       "      <td>10.763623</td>\n",
       "      <td>0.0</td>\n",
       "      <td>60.0</td>\n",
       "      <td>0.018925</td>\n",
       "      <td>2017-08-17 09:00:00</td>\n",
       "      <td>Thursday</td>\n",
       "      <td>33</td>\n",
       "      <td>August</td>\n",
       "    </tr>\n",
       "    <tr>\n",
       "      <th>...</th>\n",
       "      <td>...</td>\n",
       "      <td>...</td>\n",
       "      <td>...</td>\n",
       "      <td>...</td>\n",
       "      <td>...</td>\n",
       "      <td>...</td>\n",
       "      <td>...</td>\n",
       "      <td>...</td>\n",
       "      <td>...</td>\n",
       "      <td>...</td>\n",
       "      <td>...</td>\n",
       "      <td>...</td>\n",
       "      <td>...</td>\n",
       "    </tr>\n",
       "    <tr>\n",
       "      <th>34576</th>\n",
       "      <td>2021-08-01 20:00:00</td>\n",
       "      <td>41263.34</td>\n",
       "      <td>41500.00</td>\n",
       "      <td>41106.00</td>\n",
       "      <td>41258.65</td>\n",
       "      <td>2076.843599</td>\n",
       "      <td>0.0</td>\n",
       "      <td>60.0</td>\n",
       "      <td>-0.000114</td>\n",
       "      <td>2021-08-01 20:00:00</td>\n",
       "      <td>Sunday</td>\n",
       "      <td>30</td>\n",
       "      <td>August</td>\n",
       "    </tr>\n",
       "    <tr>\n",
       "      <th>34577</th>\n",
       "      <td>2021-08-01 21:00:00</td>\n",
       "      <td>41258.65</td>\n",
       "      <td>41314.14</td>\n",
       "      <td>40926.09</td>\n",
       "      <td>41068.21</td>\n",
       "      <td>1139.681274</td>\n",
       "      <td>0.0</td>\n",
       "      <td>60.0</td>\n",
       "      <td>-0.004626</td>\n",
       "      <td>2021-08-01 21:00:00</td>\n",
       "      <td>Sunday</td>\n",
       "      <td>30</td>\n",
       "      <td>August</td>\n",
       "    </tr>\n",
       "    <tr>\n",
       "      <th>34578</th>\n",
       "      <td>2021-08-01 22:00:00</td>\n",
       "      <td>41068.21</td>\n",
       "      <td>41192.60</td>\n",
       "      <td>40000.00</td>\n",
       "      <td>40268.63</td>\n",
       "      <td>4849.500775</td>\n",
       "      <td>0.0</td>\n",
       "      <td>60.0</td>\n",
       "      <td>-0.019662</td>\n",
       "      <td>2021-08-01 22:00:00</td>\n",
       "      <td>Sunday</td>\n",
       "      <td>30</td>\n",
       "      <td>August</td>\n",
       "    </tr>\n",
       "    <tr>\n",
       "      <th>34579</th>\n",
       "      <td>2021-08-01 23:00:00</td>\n",
       "      <td>40273.36</td>\n",
       "      <td>40437.51</td>\n",
       "      <td>39422.01</td>\n",
       "      <td>39845.44</td>\n",
       "      <td>5041.730461</td>\n",
       "      <td>0.0</td>\n",
       "      <td>60.0</td>\n",
       "      <td>-0.010565</td>\n",
       "      <td>2021-08-01 23:00:00</td>\n",
       "      <td>Sunday</td>\n",
       "      <td>30</td>\n",
       "      <td>August</td>\n",
       "    </tr>\n",
       "    <tr>\n",
       "      <th>34580</th>\n",
       "      <td>2021-08-02 00:00:00</td>\n",
       "      <td>39850.27</td>\n",
       "      <td>40099.36</td>\n",
       "      <td>39450.00</td>\n",
       "      <td>39518.73</td>\n",
       "      <td>2764.581547</td>\n",
       "      <td>0.0</td>\n",
       "      <td>60.0</td>\n",
       "      <td>-0.008233</td>\n",
       "      <td>2021-08-02 00:00:00</td>\n",
       "      <td>Monday</td>\n",
       "      <td>31</td>\n",
       "      <td>August</td>\n",
       "    </tr>\n",
       "  </tbody>\n",
       "</table>\n",
       "<p>34580 rows × 13 columns</p>\n",
       "</div>"
      ],
      "text/plain": [
       "                     timestamp      open      high       low     close  \\\n",
       "1      2017-08-17 05:00:00.000   4308.83   4328.69   4291.37   4315.32   \n",
       "2      2017-08-17 06:00:00.000   4330.29   4345.45   4309.37   4324.35   \n",
       "3      2017-08-17 07:00:00.000   4316.62   4349.99   4287.41   4349.99   \n",
       "4      2017-08-17 08:00:00.000   4333.32   4377.85   4333.32   4360.69   \n",
       "5      2017-08-17 09:00:00.000   4360.00   4445.78   4360.00   4444.00   \n",
       "...                        ...       ...       ...       ...       ...   \n",
       "34576      2021-08-01 20:00:00  41263.34  41500.00  41106.00  41258.65   \n",
       "34577      2021-08-01 21:00:00  41258.65  41314.14  40926.09  41068.21   \n",
       "34578      2021-08-01 22:00:00  41068.21  41192.60  40000.00  40268.63   \n",
       "34579      2021-08-01 23:00:00  40273.36  40437.51  39422.01  39845.44   \n",
       "34580      2021-08-02 00:00:00  39850.27  40099.36  39450.00  39518.73   \n",
       "\n",
       "            volume  time_diff_in_days  time_diff_in_min  \\\n",
       "1        23.234916                0.0              60.0   \n",
       "2         7.229691                0.0              60.0   \n",
       "3         4.443249                0.0              60.0   \n",
       "4         0.972807                0.0              60.0   \n",
       "5        10.763623                0.0              60.0   \n",
       "...            ...                ...               ...   \n",
       "34576  2076.843599                0.0              60.0   \n",
       "34577  1139.681274                0.0              60.0   \n",
       "34578  4849.500775                0.0              60.0   \n",
       "34579  5041.730461                0.0              60.0   \n",
       "34580  2764.581547                0.0              60.0   \n",
       "\n",
       "       closeprice_log_return            datetime       day  week   month  \n",
       "1                   0.001505 2017-08-17 05:00:00  Thursday    33  August  \n",
       "2                   0.002090 2017-08-17 06:00:00  Thursday    33  August  \n",
       "3                   0.005912 2017-08-17 07:00:00  Thursday    33  August  \n",
       "4                   0.002457 2017-08-17 08:00:00  Thursday    33  August  \n",
       "5                   0.018925 2017-08-17 09:00:00  Thursday    33  August  \n",
       "...                      ...                 ...       ...   ...     ...  \n",
       "34576              -0.000114 2021-08-01 20:00:00    Sunday    30  August  \n",
       "34577              -0.004626 2021-08-01 21:00:00    Sunday    30  August  \n",
       "34578              -0.019662 2021-08-01 22:00:00    Sunday    30  August  \n",
       "34579              -0.010565 2021-08-01 23:00:00    Sunday    30  August  \n",
       "34580              -0.008233 2021-08-02 00:00:00    Monday    31  August  \n",
       "\n",
       "[34580 rows x 13 columns]"
      ]
     },
     "execution_count": 141,
     "metadata": {},
     "output_type": "execute_result"
    }
   ],
   "source": [
    "df"
   ]
  },
  {
   "cell_type": "markdown",
   "metadata": {},
   "source": [
    "# We plot the average and median log_return by day, by week, and by month."
   ]
  },
  {
   "cell_type": "markdown",
   "metadata": {},
   "source": [
    "# by day"
   ]
  },
  {
   "cell_type": "code",
   "execution_count": 162,
   "metadata": {},
   "outputs": [],
   "source": [
    "days=['Monday', 'Tuesday', 'Wednesday', 'Thursday', 'Friday', 'Saturday', 'Sunday']"
   ]
  },
  {
   "cell_type": "code",
   "execution_count": 190,
   "metadata": {},
   "outputs": [
    {
     "data": {
      "text/plain": [
       "<matplotlib.axes._subplots.AxesSubplot at 0x7f64cc1c53d0>"
      ]
     },
     "execution_count": 190,
     "metadata": {},
     "output_type": "execute_result"
    },
    {
     "data": {
      "image/png": "[encoded data removed]",
      "text/plain": [
       "<Figure size 432x288 with 1 Axes>"
      ]
     },
     "metadata": {
      "needs_background": "light"
     },
     "output_type": "display_data"
    }
   ],
   "source": [
    "df[['day', 'closeprice_log_return']].groupby('day', sort=True).mean().reindex(days).plot(kind='bar', title='Average hourly log-return for BTCUSDT per week day', legend=True)"
   ]
  },
  {
   "cell_type": "code",
   "execution_count": 189,
   "metadata": {},
   "outputs": [
    {
     "data": {
      "text/plain": [
       "<matplotlib.axes._subplots.AxesSubplot at 0x7f64cc07f710>"
      ]
     },
     "execution_count": 189,
     "metadata": {},
     "output_type": "execute_result"
    },
    {
     "data": {
      "image/png": "[encoded data removed]",
      "text/plain": [
       "<Figure size 432x288 with 1 Axes>"
      ]
     },
     "metadata": {
      "needs_background": "light"
     },
     "output_type": "display_data"
    }
   ],
   "source": [
    "df[['day', 'closeprice_log_return']].groupby('day', sort=False).median().reindex(days).plot(kind='bar', title='Median hourly log-return for BTCUSDT per day', legend=True)"
   ]
  },
  {
   "cell_type": "markdown",
   "metadata": {},
   "source": [
    "# by week"
   ]
  },
  {
   "cell_type": "code",
   "execution_count": 188,
   "metadata": {},
   "outputs": [
    {
     "data": {
      "text/plain": [
       "<matplotlib.axes._subplots.AxesSubplot at 0x7f64c7f61b50>"
      ]
     },
     "execution_count": 188,
     "metadata": {},
     "output_type": "execute_result"
    },
    {
     "data": {
      "image/png": "[encoded data removed]",
      "text/plain": [
       "<Figure size 432x288 with 1 Axes>"
      ]
     },
     "metadata": {
      "needs_background": "light"
     },
     "output_type": "display_data"
    }
   ],
   "source": [
    "df[['week', 'closeprice_log_return']].groupby('week', sort=True).mean().plot(kind='bar', title='Average hourly log-return for BTCUSDT per week number', legend=True)"
   ]
  },
  {
   "cell_type": "markdown",
   "metadata": {},
   "source": [
    "We can notice quite a pattern on the 53th calendar week. Explain more. (cause 53th week only exists in 2020 so it's biased: not big enough sample"
   ]
  },
  {
   "cell_type": "code",
   "execution_count": 187,
   "metadata": {},
   "outputs": [
    {
     "data": {
      "text/plain": [
       "<matplotlib.axes._subplots.AxesSubplot at 0x7f64c7989bd0>"
      ]
     },
     "execution_count": 187,
     "metadata": {},
     "output_type": "execute_result"
    },
    {
     "data": {
      "image/png": "[encoded data removed]",
      "text/plain": [
       "<Figure size 432x288 with 1 Axes>"
      ]
     },
     "metadata": {
      "needs_background": "light"
     },
     "output_type": "display_data"
    }
   ],
   "source": [
    "df[['week', 'closeprice_log_return']].groupby('week').median().plot(kind='bar', title='Median hourly log-return for BTCUSDT per week number', legend=True)\n"
   ]
  },
  {
   "cell_type": "markdown",
   "metadata": {},
   "source": [
    "Let's now look at extreme value or outliers among those"
   ]
  },
  {
   "cell_type": "markdown",
   "metadata": {},
   "source": [
    "# by month"
   ]
  },
  {
   "cell_type": "code",
   "execution_count": 170,
   "metadata": {},
   "outputs": [],
   "source": [
    "months=['January', 'February', 'March', 'April', 'May', 'June', 'July', 'August', 'September', 'October', 'November', 'December']"
   ]
  },
  {
   "cell_type": "code",
   "execution_count": 191,
   "metadata": {},
   "outputs": [
    {
     "data": {
      "text/plain": [
       "<matplotlib.axes._subplots.AxesSubplot at 0x7f64cc1ad250>"
      ]
     },
     "execution_count": 191,
     "metadata": {},
     "output_type": "execute_result"
    },
    {
     "data": {
      "image/png": "[encoded data removed]",
      "text/plain": [
       "<Figure size 432x288 with 1 Axes>"
      ]
     },
     "metadata": {
      "needs_background": "light"
     },
     "output_type": "display_data"
    }
   ],
   "source": [
    "df[['month', 'closeprice_log_return']].groupby('month', sort=False).mean().reindex(months).plot(kind='bar', title='Average hourly log-return for BTCUSDT per month', legend=True)"
   ]
  },
  {
   "cell_type": "code",
   "execution_count": 192,
   "metadata": {},
   "outputs": [
    {
     "data": {
      "text/plain": [
       "<matplotlib.axes._subplots.AxesSubplot at 0x7f64c780abd0>"
      ]
     },
     "execution_count": 192,
     "metadata": {},
     "output_type": "execute_result"
    },
    {
     "data": {
      "image/png": "[encoded data removed]",
      "text/plain": [
       "<Figure size 432x288 with 1 Axes>"
      ]
     },
     "metadata": {
      "needs_background": "light"
     },
     "output_type": "display_data"
    }
   ],
   "source": [
    "df[['month', 'closeprice_log_return']].groupby('month').median().reindex(months).plot(kind='bar', title='Median hourly log-return for BTCUSDT per month', legend=True)"
   ]
  }
 ],
 "metadata": {
  "instance_type": "ml.t3.medium",
  "kernelspec": {
   "display_name": "Python 3 (Data Science)",
   "language": "python",
   "name": "python3__SAGEMAKER_INTERNAL__arn:aws:sagemaker:eu-central-1:936697816551:image/datascience-1.0"
  },
  "language_info": {
   "codemirror_mode": {
    "name": "ipython",
    "version": 3
   },
   "file_extension": ".py",
   "mimetype": "text/x-python",
   "name": "python",
   "nbconvert_exporter": "python",
   "pygments_lexer": "ipython3",
   "version": "3.7.10"
  }
 },
 "nbformat": 4,
 "nbformat_minor": 4
}
