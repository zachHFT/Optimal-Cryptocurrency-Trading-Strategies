{
 "cells": [
  {
   "cell_type": "code",
   "execution_count": 1,
   "metadata": {},
   "outputs": [],
   "source": [
    "import praw \n",
    "import pandas as pd\n",
    "import datetime as dt\n",
    "\n",
    "from psaw import PushshiftAPI"
   ]
  },
  {
   "cell_type": "code",
   "execution_count": 2,
   "metadata": {},
   "outputs": [],
   "source": [
    "client_id = \"2igCtbEkzNqtV80wZ86Vtw\"\n",
    "client_secret = \"Ja8Fffdzh37EYHGdO04Hu6ncbkbcKw\"\n",
    "user_agent = \"SCV_Crypto_WebScraping\"\n",
    "\n",
    "reddit = praw.Reddit(client_id=client_id, client_secret=client_secret, user_agent=user_agent)\n",
    "\n",
    "api = PushshiftAPI(reddit)"
   ]
  },
  {
   "cell_type": "code",
   "execution_count": 3,
   "metadata": {},
   "outputs": [],
   "source": [
    "start_time = int(dt.datetime(2017, 7, 17).timestamp())\n",
    "end_time = int(dt.datetime(2021, 8, 1).timestamp())\n",
    "\n",
    "daily_discussions = api.search_submissions(q='\"Daily Discussion -\"', after=start_time, before=end_time, subreddit='Cryptocurrency')"
   ]
  },
  {
   "cell_type": "code",
   "execution_count": 4,
   "metadata": {},
   "outputs": [
    {
     "name": "stderr",
     "output_type": "stream",
     "text": [
      "/opt/anaconda3/lib/python3.7/site-packages/psaw/PushshiftAPI.py:252: UserWarning: Not all PushShift shards are active. Query results may be incomplete\n",
      "  warnings.warn(shards_down_message)\n"
     ]
    }
   ],
   "source": [
    "daily_discussions = list(daily_discussions)"
   ]
  },
  {
   "cell_type": "code",
   "execution_count": 15,
   "metadata": {},
   "outputs": [],
   "source": [
    "discussions = []\n",
    "for post in daily_discussions:\n",
    "    discussions.append([post.title, post.author, post.score, post.id, post.subreddit, post.url,\\\n",
    "                        post.num_comments, post.selftext,\\\n",
    "                        dt.datetime.fromtimestamp(post.created).strftime(\"%Y-%m-%d %H:%M:%S\")])\n",
    "discussions = pd.DataFrame(discussions,columns=['title', 'author', 'score', 'id', 'subreddit', 'url',\\\n",
    "                                                'num_comments','body', 'created'])"
   ]
  },
  {
   "cell_type": "code",
   "execution_count": 16,
   "metadata": {},
   "outputs": [],
   "source": [
    "discussions.to_csv(\"r_cryptocurrency_daily_discussions.csv\")"
   ]
  },
  {
   "cell_type": "code",
   "execution_count": null,
   "metadata": {},
   "outputs": [],
   "source": []
  }
 ],
 "metadata": {
  "kernelspec": {
   "display_name": "Python 3",
   "language": "python",
   "name": "python3"
  },
  "language_info": {
   "codemirror_mode": {
    "name": "ipython",
    "version": 3
   },
   "file_extension": ".py",
   "mimetype": "text/x-python",
   "name": "python",
   "nbconvert_exporter": "python",
   "pygments_lexer": "ipython3",
   "version": "3.7.1"
  }
 },
 "nbformat": 4,
 "nbformat_minor": 2
}
